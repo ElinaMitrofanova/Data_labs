{
 "cells": [
  {
   "cell_type": "code",
   "execution_count": 10,
   "metadata": {
    "_cell_guid": "b1076dfc-b9ad-4769-8c92-a6c4dae69d19",
    "_uuid": "8f2839f25d086af736a60e9eeb907d3b93b6e0e5",
    "execution": {
     "iopub.execute_input": "2022-01-03T20:37:04.405048Z",
     "iopub.status.busy": "2022-01-03T20:37:04.404334Z",
     "iopub.status.idle": "2022-01-03T20:37:04.409481Z",
     "shell.execute_reply": "2022-01-03T20:37:04.408730Z",
     "shell.execute_reply.started": "2022-01-03T20:37:04.405008Z"
    }
   },
   "outputs": [],
   "source": [
    "# This Python 3 environment comes with many helpful analytics libraries installed\n",
    "# It is defined by the kaggle/python Docker image: https://github.com/kaggle/docker-python\n",
    "# For example, here's several helpful packages to load\n",
    "\n",
    "import numpy as np # linear algebra\n",
    "import pandas as pd # data processing, CSV file I/O (e.g. pd.read_csv)"
   ]
  },
  {
   "cell_type": "code",
   "execution_count": 31,
   "metadata": {
    "execution": {
     "iopub.execute_input": "2022-01-03T20:37:04.411428Z",
     "iopub.status.busy": "2022-01-03T20:37:04.410933Z",
     "iopub.status.idle": "2022-01-03T20:37:04.423544Z",
     "shell.execute_reply": "2022-01-03T20:37:04.422680Z",
     "shell.execute_reply.started": "2022-01-03T20:37:04.411391Z"
    }
   },
   "outputs": [],
   "source": [
    "import matplotlib.colors\n",
    "import matplotlib.pyplot as plt\n",
    "import random\n",
    "import seaborn as sns\n",
    "from sklearn.metrics import accuracy_score\n",
    "from sklearn.utils import shuffle"
   ]
  },
  {
   "cell_type": "markdown",
   "metadata": {},
   "source": [
    "**Task 1**"
   ]
  },
  {
   "cell_type": "code",
   "execution_count": 32,
   "metadata": {
    "execution": {
     "iopub.execute_input": "2022-01-03T20:37:04.425511Z",
     "iopub.status.busy": "2022-01-03T20:37:04.424839Z",
     "iopub.status.idle": "2022-01-03T20:37:04.436694Z",
     "shell.execute_reply": "2022-01-03T20:37:04.435968Z",
     "shell.execute_reply.started": "2022-01-03T20:37:04.425476Z"
    }
   },
   "outputs": [],
   "source": [
    "a=3\n",
    "b=4\n",
    "size = 500\n",
    "np.random.seed(42)"
   ]
  },
  {
   "cell_type": "code",
   "execution_count": 33,
   "metadata": {
    "execution": {
     "iopub.execute_input": "2022-01-03T20:37:04.438562Z",
     "iopub.status.busy": "2022-01-03T20:37:04.438070Z",
     "iopub.status.idle": "2022-01-03T20:37:04.450070Z",
     "shell.execute_reply": "2022-01-03T20:37:04.449438Z",
     "shell.execute_reply.started": "2022-01-03T20:37:04.438529Z"
    }
   },
   "outputs": [],
   "source": [
    "noise = np.random.normal(0, 1, size)\n",
    "x_train = np.random.uniform(0, 1, size)\n",
    "y_train = a + b* x_train +  noise"
   ]
  },
  {
   "cell_type": "markdown",
   "metadata": {},
   "source": [
    "Scatter plot"
   ]
  },
  {
   "cell_type": "code",
   "execution_count": 34,
   "metadata": {
    "execution": {
     "iopub.execute_input": "2022-01-03T20:37:04.452097Z",
     "iopub.status.busy": "2022-01-03T20:37:04.451842Z",
     "iopub.status.idle": "2022-01-03T20:37:04.678096Z",
     "shell.execute_reply": "2022-01-03T20:37:04.677056Z",
     "shell.execute_reply.started": "2022-01-03T20:37:04.452059Z"
    }
   },
   "outputs": [
    {
     "data": {
      "text/plain": [
       "[<matplotlib.lines.Line2D at 0x22c0c3d3640>]"
      ]
     },
     "execution_count": 34,
     "metadata": {},
     "output_type": "execute_result"
    },
    {
     "data": {
      "image/png": "[encoded data removed]",
      "text/plain": [
       "<Figure size 432x288 with 1 Axes>"
      ]
     },
     "metadata": {
      "needs_background": "light"
     },
     "output_type": "display_data"
    }
   ],
   "source": [
    "plt.scatter(x_train, y_train, marker = '.', color = 'r')\n",
    "plt.xlabel('x_train')\n",
    "plt.ylabel('y_train')\n",
    "plt.title('Plot_1')\n",
    "plt.plot()\n",
    "plt.plot(x_train, a * x_train + b)"
   ]
  },
  {
   "cell_type": "markdown",
   "metadata": {},
   "source": [
    "**Gradient Descent**"
   ]
  },
  {
   "cell_type": "code",
   "execution_count": 35,
   "metadata": {
    "execution": {
     "iopub.execute_input": "2022-01-03T20:37:04.679432Z",
     "iopub.status.busy": "2022-01-03T20:37:04.679175Z",
     "iopub.status.idle": "2022-01-03T20:37:04.683764Z",
     "shell.execute_reply": "2022-01-03T20:37:04.683011Z",
     "shell.execute_reply.started": "2022-01-03T20:37:04.679400Z"
    }
   },
   "outputs": [],
   "source": [
    "\n",
    "a_current = random.randint(0,50)\n",
    "b_current = random.randint(0,50)\n",
    "learning_rate = 0.01 # скорость обучения"
   ]
  },
  {
   "cell_type": "code",
   "execution_count": 36,
   "metadata": {
    "execution": {
     "iopub.execute_input": "2022-01-03T20:37:04.685497Z",
     "iopub.status.busy": "2022-01-03T20:37:04.685161Z",
     "iopub.status.idle": "2022-01-03T20:37:04.697331Z",
     "shell.execute_reply": "2022-01-03T20:37:04.696458Z",
     "shell.execute_reply.started": "2022-01-03T20:37:04.685463Z"
    }
   },
   "outputs": [],
   "source": [
    "def grad(iterations):\n",
    "    a_current = np.random.randint(0, 50)\n",
    "    b_current = np.random.randint(0, 50)\n",
    "    for i in range(iterations):\n",
    "        y_pred = a_current + b_current * x_train\n",
    "        loss = y_train - y_pred # отклонение результата\n",
    "        a_grad = -2 * loss.mean()\n",
    "        b_grad = -2 * (x_train * loss).mean()\n",
    "        a_current = a_current - learning_rate * a_grad\n",
    "        b_current = b_current - learning_rate * b_grad\n",
    "    return a_current, b_current"
   ]
  },
  {
   "cell_type": "code",
   "execution_count": 37,
   "metadata": {
    "execution": {
     "iopub.execute_input": "2022-01-03T20:37:04.699341Z",
     "iopub.status.busy": "2022-01-03T20:37:04.698657Z",
     "iopub.status.idle": "2022-01-03T20:37:04.861509Z",
     "shell.execute_reply": "2022-01-03T20:37:04.860604Z",
     "shell.execute_reply.started": "2022-01-03T20:37:04.699293Z"
    }
   },
   "outputs": [
    {
     "name": "stdout",
     "output_type": "stream",
     "text": [
      "Initial parametrs   a =  3  b =  4\n",
      "Result   a =  3.0229902114562197  b =  3.967504214618833\n",
      "Diffrenece   delta_a =  0.02299021145621971  delta-b =  0.03249578538116715\n"
     ]
    }
   ],
   "source": [
    "print(\"Initial parametrs \",' a = ',a,' b = ', b)\n",
    "a_pred, b_pred = grad(5000)\n",
    "print(\"Result \",' a = ',a_pred,' b = ', b_pred)\n",
    "print(\"Diffrenece \",' delta_a = ',np.abs(a - a_pred),' delta-b = ', np.abs(b - b_pred))"
   ]
  },
  {
   "cell_type": "markdown",
   "metadata": {},
   "source": [
    "**Task 2**"
   ]
  },
  {
   "cell_type": "code",
   "execution_count": 38,
   "metadata": {
    "execution": {
     "iopub.execute_input": "2022-01-03T20:37:04.862865Z",
     "iopub.status.busy": "2022-01-03T20:37:04.862657Z",
     "iopub.status.idle": "2022-01-03T20:37:04.875881Z",
     "shell.execute_reply": "2022-01-03T20:37:04.874957Z",
     "shell.execute_reply.started": "2022-01-03T20:37:04.862839Z"
    }
   },
   "outputs": [
    {
     "name": "stdout",
     "output_type": "stream",
     "text": [
      "(300, 2)\n",
      "(700, 2)\n",
      "(300,)\n",
      "(700,)\n"
     ]
    }
   ],
   "source": [
    "mean_1, class1_cov = [1, 3],  [[2, 0], [0, 2]]\n",
    "mean_2, class2_cov = [5, 7],  [[3, 0], [0, 3]]\n",
    "class1 = np.random.multivariate_normal(mean_1, class1_cov, 500)\n",
    "class2 = np.random.multivariate_normal(mean_2, class2_cov, 500)\n",
    "\n",
    "X = np.concatenate([class1, class2])\n",
    "Y = np.array([0] * 500 + [1] *  500)\n",
    "\n",
    "X, Y = shuffle(X, Y, random_state=42)\n",
    "\n",
    "train_size = int(1000*0.7)\n",
    "\n",
    "x_train, test_set_x = X[:train_size,:], X[train_size:,:]\n",
    "y_train, test_set_y = Y[:train_size], Y[train_size:]\n",
    "\n",
    "print(test_set_x.shape)\n",
    "print(train_set_x.shape)\n",
    "print(test_set_y.shape)\n",
    "print(train_set_y.shape)"
   ]
  },
  {
   "cell_type": "code",
   "execution_count": 39,
   "metadata": {
    "execution": {
     "iopub.execute_input": "2022-01-03T20:37:04.877563Z",
     "iopub.status.busy": "2022-01-03T20:37:04.877306Z",
     "iopub.status.idle": "2022-01-03T20:37:05.116315Z",
     "shell.execute_reply": "2022-01-03T20:37:05.115767Z",
     "shell.execute_reply.started": "2022-01-03T20:37:04.877534Z"
    }
   },
   "outputs": [
    {
     "data": {
      "text/plain": [
       "<matplotlib.collections.PathCollection at 0x22c0c42cd00>"
      ]
     },
     "execution_count": 39,
     "metadata": {},
     "output_type": "execute_result"
    },
    {
     "data": {
      "image/png": "[encoded data removed]",
      "text/plain": [
       "<Figure size 432x288 with 1 Axes>"
      ]
     },
     "metadata": {
      "needs_background": "light"
     },
     "output_type": "display_data"
    }
   ],
   "source": [
    "plt.scatter(class1[:, 0], class1[:, 1], color='yellow')\n",
    "plt.scatter(class2[:, 0], class2[:, 1], color='blue')"
   ]
  },
  {
   "cell_type": "markdown",
   "metadata": {},
   "source": []
  },
  {
   "cell_type": "code",
   "execution_count": 40,
   "metadata": {
    "execution": {
     "iopub.execute_input": "2022-01-03T20:37:05.117605Z",
     "iopub.status.busy": "2022-01-03T20:37:05.117318Z",
     "iopub.status.idle": "2022-01-03T20:37:05.120929Z",
     "shell.execute_reply": "2022-01-03T20:37:05.120148Z",
     "shell.execute_reply.started": "2022-01-03T20:37:05.117579Z"
    }
   },
   "outputs": [],
   "source": [
    "iterations = 5000\n",
    "learning_rate = 0.01"
   ]
  },
  {
   "cell_type": "code",
   "execution_count": 41,
   "metadata": {
    "execution": {
     "iopub.execute_input": "2022-01-03T20:37:05.123377Z",
     "iopub.status.busy": "2022-01-03T20:37:05.123125Z",
     "iopub.status.idle": "2022-01-03T20:37:05.134731Z",
     "shell.execute_reply": "2022-01-03T20:37:05.133861Z",
     "shell.execute_reply.started": "2022-01-03T20:37:05.123340Z"
    }
   },
   "outputs": [],
   "source": [
    "sigmoid = lambda x: 1 / (1 + np.exp(-x))\n",
    "\n",
    "def logistic_regression(X, Y,) :\n",
    "        m, n = X.shape\n",
    "        W = np.zeros(n)\n",
    "        b = 0\n",
    "        for i in range(iterations ) :\n",
    "            A = sigmoid(X.dot(W) + b)\n",
    "            tmp = np.reshape( A - Y.T, m )\n",
    "            dW = np.dot( X.T, tmp ) / m\n",
    "            db = np.sum( tmp ) / m\n",
    "            W = W - learning_rate * dW\n",
    "            b = b - learning_rate * db\n",
    "        return W, b\n",
    "\n",
    "def predict(W, b, X) :\n",
    "    Z = sigmoid(X.dot(W) + b)\n",
    "    return np.where(Z > 0.5, 1, 0)"
   ]
  },
  {
   "cell_type": "code",
   "execution_count": 42,
   "metadata": {
    "execution": {
     "iopub.execute_input": "2022-01-03T20:37:05.136113Z",
     "iopub.status.busy": "2022-01-03T20:37:05.135868Z",
     "iopub.status.idle": "2022-01-03T20:37:05.387922Z",
     "shell.execute_reply": "2022-01-03T20:37:05.386983Z",
     "shell.execute_reply.started": "2022-01-03T20:37:05.136073Z"
    }
   },
   "outputs": [
    {
     "name": "stdout",
     "output_type": "stream",
     "text": [
      "Accuracy:  0.9533333333333334\n"
     ]
    }
   ],
   "source": [
    "W, b =  logistic_regression(x_train, train_set_y)\n",
    "y_pred_test = predict(W, b, test_set_x)\n",
    "print('Accuracy: ', accuracy_score(y_pred_test, test_set_y))"
   ]
  },
  {
   "cell_type": "code",
   "execution_count": null,
   "metadata": {},
   "outputs": [],
   "source": []
  }
 ],
 "metadata": {
  "kernelspec": {
   "display_name": "Python 3 (ipykernel)",
   "language": "python",
   "name": "python3"
  },
  "language_info": {
   "codemirror_mode": {
    "name": "ipython",
    "version": 3
   },
   "file_extension": ".py",
   "mimetype": "text/x-python",
   "name": "python",
   "nbconvert_exporter": "python",
   "pygments_lexer": "ipython3",
   "version": "3.9.7"
  }
 },
 "nbformat": 4,
 "nbformat_minor": 4
}
