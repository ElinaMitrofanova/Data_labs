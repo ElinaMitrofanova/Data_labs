{
 "cells": [
  {
   "cell_type": "code",
   "execution_count": 1,
   "id": "9a6b8743",
   "metadata": {},
   "outputs": [],
   "source": [
    "import numpy as np # linear algebra\n",
    "import pandas as pd\n",
    "import os\n",
    "import matplotlib.pyplot as plt\n",
    "\n",
    "import tensorflow as tf\n",
    "from tensorflow import keras\n",
    "from tensorflow.keras import layers\n",
    "from tensorflow.keras import initializers"
   ]
  },
  {
   "cell_type": "code",
   "execution_count": 2,
   "id": "e117614c",
   "metadata": {},
   "outputs": [],
   "source": [
    "batch_size = 64;\n",
    "epochs = 100;\n",
    "latent_dim = 256;  \n",
    "num_samples = 10000; \n",
    "data_path = \"pol.txt\";"
   ]
  },
  {
   "cell_type": "code",
   "execution_count": 3,
   "id": "9784d2fb",
   "metadata": {},
   "outputs": [],
   "source": [
    "input_texts = [];\n",
    "target_texts = [];\n",
    "input_characters = set();\n",
    "target_characters = set();\n",
    "with open(data_path, \"r\", encoding=\"utf-8\") as f:\n",
    "    lines = f.read().split(\"\\n\");\n",
    "for line in lines[: min(num_samples, len(lines) - 1)]:\n",
    "    input_text, target_text, _ = line.split(\"\\t\");\n",
    "    target_text = \"\\t\" + target_text + \"\\n\";\n",
    "    input_texts.append(input_text);\n",
    "    target_texts.append(target_text);\n",
    "    for char in input_text:\n",
    "        if char not in input_characters:\n",
    "            input_characters.add(char);\n",
    "    for char in target_text:\n",
    "        if char not in target_characters:\n",
    "            target_characters.add(char);"
   ]
  },
  {
   "cell_type": "code",
   "execution_count": 4,
   "id": "f35e4f50",
   "metadata": {},
   "outputs": [],
   "source": [
    "input_characters = sorted(list(input_characters));\n",
    "target_characters = sorted(list(target_characters));\n",
    "num_encoder_tokens = len(input_characters);\n",
    "num_decoder_tokens = len(target_characters);\n",
    "max_encoder_seq_length = max([len(txt) for txt in input_texts]);\n",
    "max_decoder_seq_length = max([len(txt) for txt in target_texts]);"
   ]
  },
  {
   "cell_type": "code",
   "execution_count": 5,
   "id": "1870c955",
   "metadata": {},
   "outputs": [
    {
     "name": "stdout",
     "output_type": "stream",
     "text": [
      "Samples : 10000\n",
      "Number of unique source tokens: 73\n",
      "Unique input tokens 91\n",
      "Maximum length of the input sequence: 21\n",
      "Maximum length of the outnput sequence: 58\n"
     ]
    }
   ],
   "source": [
    "print(\"Samples :\", len(input_texts));\n",
    "print(\"Number of unique source tokens:\", num_encoder_tokens);\n",
    "print(\"Unique input tokens\", num_decoder_tokens);\n",
    "print(\"Maximum length of the input sequence:\", max_encoder_seq_length);\n",
    "print(\"Maximum length of the outnput sequence:\", max_decoder_seq_length);"
   ]
  },
  {
   "cell_type": "code",
   "execution_count": 6,
   "id": "c97749d7",
   "metadata": {},
   "outputs": [],
   "source": [
    "input_token_index = dict([(char, i) for i, char in enumerate(input_characters)]);\n",
    "target_token_index = dict([(char, i) for i, char in enumerate(target_characters)]);\n",
    "\n",
    "encoder_input_data = np.zeros( (len(input_texts), max_encoder_seq_length, num_encoder_tokens), dtype=\"float32\");\n",
    "decoder_input_data = np.zeros( (len(input_texts), max_decoder_seq_length, num_decoder_tokens), dtype=\"float32\");\n",
    "decoder_target_data = np.zeros( (len(input_texts), max_decoder_seq_length, num_decoder_tokens), dtype=\"float32\");\n",
    "\n",
    "for i, (input_text, target_text) in enumerate(zip(input_texts, target_texts)):\n",
    "    for t, char in enumerate(input_text):\n",
    "        encoder_input_data[i, t, input_token_index[char]] = 1.0;\n",
    "    encoder_input_data[i, t + 1 :, input_token_index[\" \"]] = 1.0;\n",
    "    for t, char in enumerate(target_text):\n",
    "        decoder_input_data[i, t, target_token_index[char]] = 1.0;\n",
    "        if t > 0:\n",
    "            decoder_target_data[i, t - 1, target_token_index[char]] = 1.0;\n",
    "    decoder_input_data[i, t + 1 :, target_token_index[\" \"]] = 1.0;\n",
    "    decoder_target_data[i, t:, target_token_index[\" \"]] = 1.0;"
   ]
  },
  {
   "cell_type": "markdown",
   "id": "c860eb63",
   "metadata": {},
   "source": [
    "# Build model"
   ]
  },
  {
   "cell_type": "code",
   "execution_count": 7,
   "id": "83cba8c7",
   "metadata": {},
   "outputs": [],
   "source": [
    "encoder_inputs = keras.Input(shape=(None, num_encoder_tokens));\n",
    "encoder = keras.layers.LSTM(latent_dim, return_state=True);\n",
    "encoder_outputs, state_h, state_c = encoder(encoder_inputs);\n",
    "\n",
    "encoder_states = [state_h, state_c];\n",
    "\n",
    "decoder_inputs = keras.Input(shape=(None, num_decoder_tokens));\n",
    "\n",
    "decoder_lstm = keras.layers.LSTM(latent_dim, return_sequences=True, return_state=True);\n",
    "decoder_outputs, _, _ = decoder_lstm(decoder_inputs, initial_state=encoder_states);\n",
    "decoder_dense = keras.layers.Dense(num_decoder_tokens, activation=\"sigmoid\");\n",
    "decoder_outputs = decoder_dense(decoder_outputs);\n",
    "\n",
    "model = keras.Model([encoder_inputs, decoder_inputs], decoder_outputs);\n"
   ]
  },
  {
   "cell_type": "markdown",
   "id": "20edc7ff",
   "metadata": {},
   "source": [
    "# Learn model"
   ]
  },
  {
   "cell_type": "code",
   "execution_count": 8,
   "id": "60c7dbc5",
   "metadata": {},
   "outputs": [
    {
     "name": "stdout",
     "output_type": "stream",
     "text": [
      "Epoch 1/100\n",
      "125/125 [==============================] - 55s 381ms/step - loss: 1.2677 - accuracy: 0.7133 - val_loss: 1.2783 - val_accuracy: 0.6667\n",
      "Epoch 2/100\n",
      "125/125 [==============================] - 44s 350ms/step - loss: 0.9166 - accuracy: 0.7598 - val_loss: 1.0348 - val_accuracy: 0.7197\n",
      "Epoch 3/100\n",
      "125/125 [==============================] - 43s 347ms/step - loss: 0.7689 - accuracy: 0.7895 - val_loss: 0.8994 - val_accuracy: 0.7483\n",
      "Epoch 4/100\n",
      "125/125 [==============================] - 43s 347ms/step - loss: 0.6830 - accuracy: 0.8089 - val_loss: 0.8480 - val_accuracy: 0.7590\n",
      "Epoch 5/100\n",
      "125/125 [==============================] - 51s 407ms/step - loss: 0.6450 - accuracy: 0.8166 - val_loss: 0.7961 - val_accuracy: 0.7727\n",
      "Epoch 6/100\n",
      "125/125 [==============================] - 53s 423ms/step - loss: 0.6045 - accuracy: 0.8267 - val_loss: 0.7715 - val_accuracy: 0.7792\n",
      "Epoch 7/100\n",
      "125/125 [==============================] - 52s 417ms/step - loss: 0.5759 - accuracy: 0.8348 - val_loss: 0.7427 - val_accuracy: 0.7863\n",
      "Epoch 8/100\n",
      "125/125 [==============================] - 48s 384ms/step - loss: 0.5486 - accuracy: 0.8420 - val_loss: 0.7130 - val_accuracy: 0.7952\n",
      "Epoch 9/100\n",
      "125/125 [==============================] - 44s 353ms/step - loss: 0.5248 - accuracy: 0.8483 - val_loss: 0.6947 - val_accuracy: 0.7984\n",
      "Epoch 10/100\n",
      "125/125 [==============================] - 45s 362ms/step - loss: 0.5041 - accuracy: 0.8545 - val_loss: 0.6805 - val_accuracy: 0.8038\n",
      "Epoch 11/100\n",
      "125/125 [==============================] - 45s 357ms/step - loss: 0.4852 - accuracy: 0.8597 - val_loss: 0.6591 - val_accuracy: 0.8098\n",
      "Epoch 12/100\n",
      "125/125 [==============================] - 43s 344ms/step - loss: 0.4682 - accuracy: 0.8647 - val_loss: 0.6486 - val_accuracy: 0.8141\n",
      "Epoch 13/100\n",
      "125/125 [==============================] - 43s 344ms/step - loss: 0.4532 - accuracy: 0.8690 - val_loss: 0.6364 - val_accuracy: 0.8157\n",
      "Epoch 14/100\n",
      "125/125 [==============================] - 43s 341ms/step - loss: 0.4385 - accuracy: 0.8730 - val_loss: 0.6264 - val_accuracy: 0.8196\n",
      "Epoch 15/100\n",
      "125/125 [==============================] - 42s 338ms/step - loss: 0.4247 - accuracy: 0.8771 - val_loss: 0.6141 - val_accuracy: 0.8231\n",
      "Epoch 16/100\n",
      "125/125 [==============================] - 42s 340ms/step - loss: 0.4118 - accuracy: 0.8808 - val_loss: 0.6081 - val_accuracy: 0.8255\n",
      "Epoch 17/100\n",
      "125/125 [==============================] - 47s 375ms/step - loss: 0.3993 - accuracy: 0.8843 - val_loss: 0.6040 - val_accuracy: 0.8267\n",
      "Epoch 18/100\n",
      "125/125 [==============================] - 47s 376ms/step - loss: 0.3876 - accuracy: 0.8877 - val_loss: 0.6000 - val_accuracy: 0.8284\n",
      "Epoch 19/100\n",
      "125/125 [==============================] - 43s 345ms/step - loss: 0.3761 - accuracy: 0.8909 - val_loss: 0.5961 - val_accuracy: 0.8299\n",
      "Epoch 20/100\n",
      "125/125 [==============================] - 43s 347ms/step - loss: 0.3653 - accuracy: 0.8940 - val_loss: 0.5896 - val_accuracy: 0.8312\n",
      "Epoch 21/100\n",
      "125/125 [==============================] - 44s 356ms/step - loss: 0.3546 - accuracy: 0.8969 - val_loss: 0.5895 - val_accuracy: 0.8316\n",
      "Epoch 22/100\n",
      "125/125 [==============================] - 43s 345ms/step - loss: 0.3447 - accuracy: 0.8998 - val_loss: 0.5876 - val_accuracy: 0.8331\n",
      "Epoch 23/100\n",
      "125/125 [==============================] - 42s 334ms/step - loss: 0.3349 - accuracy: 0.9025 - val_loss: 0.5834 - val_accuracy: 0.8345\n",
      "Epoch 24/100\n",
      "125/125 [==============================] - 45s 359ms/step - loss: 0.3255 - accuracy: 0.9055 - val_loss: 0.5883 - val_accuracy: 0.8335\n",
      "Epoch 25/100\n",
      "125/125 [==============================] - 43s 345ms/step - loss: 0.3160 - accuracy: 0.9080 - val_loss: 0.5878 - val_accuracy: 0.8347\n",
      "Epoch 26/100\n",
      "125/125 [==============================] - 50s 403ms/step - loss: 0.3072 - accuracy: 0.9108 - val_loss: 0.5895 - val_accuracy: 0.8348\n",
      "Epoch 27/100\n",
      "125/125 [==============================] - 56s 445ms/step - loss: 0.2985 - accuracy: 0.9132 - val_loss: 0.5903 - val_accuracy: 0.8355\n",
      "Epoch 28/100\n",
      "125/125 [==============================] - 45s 357ms/step - loss: 0.2898 - accuracy: 0.9160 - val_loss: 0.5903 - val_accuracy: 0.8364\n",
      "Epoch 29/100\n",
      "125/125 [==============================] - 49s 389ms/step - loss: 0.2820 - accuracy: 0.9180 - val_loss: 0.6024 - val_accuracy: 0.8342\n",
      "Epoch 30/100\n",
      "125/125 [==============================] - 39s 310ms/step - loss: 0.2742 - accuracy: 0.9203 - val_loss: 0.5982 - val_accuracy: 0.8358\n",
      "Epoch 31/100\n",
      "125/125 [==============================] - 45s 357ms/step - loss: 0.2663 - accuracy: 0.9226 - val_loss: 0.6098 - val_accuracy: 0.8345\n",
      "Epoch 32/100\n",
      "125/125 [==============================] - 41s 327ms/step - loss: 0.2593 - accuracy: 0.9247 - val_loss: 0.6100 - val_accuracy: 0.8354\n",
      "Epoch 33/100\n",
      "125/125 [==============================] - 42s 340ms/step - loss: 0.2520 - accuracy: 0.9267 - val_loss: 0.6099 - val_accuracy: 0.8362\n",
      "Epoch 34/100\n",
      "125/125 [==============================] - 40s 320ms/step - loss: 0.2446 - accuracy: 0.9291 - val_loss: 0.6191 - val_accuracy: 0.8349\n",
      "Epoch 35/100\n",
      "125/125 [==============================] - 42s 335ms/step - loss: 0.2382 - accuracy: 0.9312 - val_loss: 0.6251 - val_accuracy: 0.8346\n",
      "Epoch 36/100\n",
      "125/125 [==============================] - 39s 310ms/step - loss: 0.2316 - accuracy: 0.9329 - val_loss: 0.6293 - val_accuracy: 0.8349\n",
      "Epoch 37/100\n",
      "125/125 [==============================] - 39s 310ms/step - loss: 0.2246 - accuracy: 0.9352 - val_loss: 0.6378 - val_accuracy: 0.8351\n",
      "Epoch 38/100\n",
      "125/125 [==============================] - 39s 313ms/step - loss: 0.2191 - accuracy: 0.9366 - val_loss: 0.6476 - val_accuracy: 0.8339\n",
      "Epoch 39/100\n",
      "125/125 [==============================] - 39s 310ms/step - loss: 0.2131 - accuracy: 0.9383 - val_loss: 0.6545 - val_accuracy: 0.8337\n",
      "Epoch 40/100\n",
      "125/125 [==============================] - 39s 313ms/step - loss: 0.2074 - accuracy: 0.9401 - val_loss: 0.6544 - val_accuracy: 0.8345\n",
      "Epoch 41/100\n",
      "125/125 [==============================] - 39s 314ms/step - loss: 0.2019 - accuracy: 0.9416 - val_loss: 0.6681 - val_accuracy: 0.8330\n",
      "Epoch 42/100\n",
      "125/125 [==============================] - 53s 428ms/step - loss: 0.1960 - accuracy: 0.9436 - val_loss: 0.6686 - val_accuracy: 0.8330\n",
      "Epoch 43/100\n",
      "125/125 [==============================] - 58s 468ms/step - loss: 0.1908 - accuracy: 0.9452 - val_loss: 0.6789 - val_accuracy: 0.8338\n",
      "Epoch 44/100\n",
      "125/125 [==============================] - 39s 313ms/step - loss: 0.1858 - accuracy: 0.9465 - val_loss: 0.6850 - val_accuracy: 0.8328\n",
      "Epoch 45/100\n",
      "125/125 [==============================] - 40s 317ms/step - loss: 0.1811 - accuracy: 0.9478 - val_loss: 0.6959 - val_accuracy: 0.8324\n",
      "Epoch 46/100\n",
      "125/125 [==============================] - 41s 326ms/step - loss: 0.1762 - accuracy: 0.9491 - val_loss: 0.7002 - val_accuracy: 0.8316\n",
      "Epoch 47/100\n",
      "125/125 [==============================] - 38s 302ms/step - loss: 0.1715 - accuracy: 0.9509 - val_loss: 0.7062 - val_accuracy: 0.8316\n",
      "Epoch 48/100\n",
      "125/125 [==============================] - 38s 306ms/step - loss: 0.1674 - accuracy: 0.9517 - val_loss: 0.7154 - val_accuracy: 0.8323\n",
      "Epoch 49/100\n",
      "125/125 [==============================] - 40s 321ms/step - loss: 0.1629 - accuracy: 0.9533 - val_loss: 0.7224 - val_accuracy: 0.8310\n",
      "Epoch 50/100\n",
      "125/125 [==============================] - 42s 337ms/step - loss: 0.1587 - accuracy: 0.9544 - val_loss: 0.7371 - val_accuracy: 0.8309\n",
      "Epoch 51/100\n",
      "125/125 [==============================] - 39s 316ms/step - loss: 0.1547 - accuracy: 0.9556 - val_loss: 0.7408 - val_accuracy: 0.8309\n",
      "Epoch 52/100\n",
      "125/125 [==============================] - 41s 329ms/step - loss: 0.1508 - accuracy: 0.9570 - val_loss: 0.7460 - val_accuracy: 0.8305\n",
      "Epoch 53/100\n",
      "125/125 [==============================] - 40s 318ms/step - loss: 0.1476 - accuracy: 0.9578 - val_loss: 0.7526 - val_accuracy: 0.8311\n",
      "Epoch 54/100\n",
      "125/125 [==============================] - 42s 336ms/step - loss: 0.1434 - accuracy: 0.9592 - val_loss: 0.7673 - val_accuracy: 0.8292\n",
      "Epoch 55/100\n",
      "125/125 [==============================] - 41s 330ms/step - loss: 0.1400 - accuracy: 0.9601 - val_loss: 0.7688 - val_accuracy: 0.8312\n",
      "Epoch 56/100\n",
      "125/125 [==============================] - 41s 327ms/step - loss: 0.1366 - accuracy: 0.9613 - val_loss: 0.7764 - val_accuracy: 0.8294\n"
     ]
    },
    {
     "name": "stdout",
     "output_type": "stream",
     "text": [
      "Epoch 57/100\n",
      "125/125 [==============================] - 50s 401ms/step - loss: 0.1338 - accuracy: 0.9619 - val_loss: 0.7810 - val_accuracy: 0.8301\n",
      "Epoch 58/100\n",
      "125/125 [==============================] - 46s 364ms/step - loss: 0.1303 - accuracy: 0.9632 - val_loss: 0.7914 - val_accuracy: 0.8300\n",
      "Epoch 59/100\n",
      "125/125 [==============================] - 39s 313ms/step - loss: 0.1272 - accuracy: 0.9638 - val_loss: 0.7988 - val_accuracy: 0.8299\n",
      "Epoch 60/100\n",
      "125/125 [==============================] - 42s 335ms/step - loss: 0.1242 - accuracy: 0.9646 - val_loss: 0.8083 - val_accuracy: 0.8292\n",
      "Epoch 61/100\n",
      "125/125 [==============================] - 39s 311ms/step - loss: 0.1215 - accuracy: 0.9655 - val_loss: 0.8151 - val_accuracy: 0.8300\n",
      "Epoch 62/100\n",
      "125/125 [==============================] - 39s 315ms/step - loss: 0.1186 - accuracy: 0.9663 - val_loss: 0.8170 - val_accuracy: 0.8301\n",
      "Epoch 63/100\n",
      "125/125 [==============================] - 39s 312ms/step - loss: 0.1161 - accuracy: 0.9671 - val_loss: 0.8242 - val_accuracy: 0.8291\n",
      "Epoch 64/100\n",
      "125/125 [==============================] - 40s 323ms/step - loss: 0.1136 - accuracy: 0.9678 - val_loss: 0.8362 - val_accuracy: 0.8293\n",
      "Epoch 65/100\n",
      "125/125 [==============================] - 38s 306ms/step - loss: 0.1107 - accuracy: 0.9685 - val_loss: 0.8449 - val_accuracy: 0.8281\n",
      "Epoch 66/100\n",
      "125/125 [==============================] - 39s 315ms/step - loss: 0.1086 - accuracy: 0.9693 - val_loss: 0.8486 - val_accuracy: 0.8289\n",
      "Epoch 67/100\n",
      "125/125 [==============================] - 40s 321ms/step - loss: 0.1059 - accuracy: 0.9698 - val_loss: 0.8639 - val_accuracy: 0.8284\n",
      "Epoch 68/100\n",
      "125/125 [==============================] - 45s 362ms/step - loss: 0.1040 - accuracy: 0.9704 - val_loss: 0.8676 - val_accuracy: 0.8292\n",
      "Epoch 69/100\n",
      "125/125 [==============================] - 42s 340ms/step - loss: 0.1015 - accuracy: 0.9712 - val_loss: 0.8733 - val_accuracy: 0.8289\n",
      "Epoch 70/100\n",
      "125/125 [==============================] - 42s 337ms/step - loss: 0.0996 - accuracy: 0.9717 - val_loss: 0.8760 - val_accuracy: 0.8290\n",
      "Epoch 71/100\n",
      "125/125 [==============================] - 43s 343ms/step - loss: 0.0967 - accuracy: 0.9727 - val_loss: 0.8843 - val_accuracy: 0.8285\n",
      "Epoch 72/100\n",
      "125/125 [==============================] - 43s 340ms/step - loss: 0.0951 - accuracy: 0.9730 - val_loss: 0.8937 - val_accuracy: 0.8279\n",
      "Epoch 73/100\n",
      "125/125 [==============================] - 43s 346ms/step - loss: 0.0931 - accuracy: 0.9738 - val_loss: 0.9020 - val_accuracy: 0.8276\n",
      "Epoch 74/100\n",
      "125/125 [==============================] - 44s 351ms/step - loss: 0.0913 - accuracy: 0.9741 - val_loss: 0.9077 - val_accuracy: 0.8270\n",
      "Epoch 75/100\n",
      "125/125 [==============================] - 44s 355ms/step - loss: 0.0888 - accuracy: 0.9749 - val_loss: 0.9159 - val_accuracy: 0.8274\n",
      "Epoch 76/100\n",
      "125/125 [==============================] - 44s 352ms/step - loss: 0.0875 - accuracy: 0.9749 - val_loss: 0.9216 - val_accuracy: 0.8277\n",
      "Epoch 77/100\n",
      "125/125 [==============================] - 44s 355ms/step - loss: 0.0855 - accuracy: 0.9758 - val_loss: 0.9285 - val_accuracy: 0.8272\n",
      "Epoch 78/100\n",
      "125/125 [==============================] - 45s 357ms/step - loss: 0.0842 - accuracy: 0.9760 - val_loss: 0.9374 - val_accuracy: 0.8271\n",
      "Epoch 79/100\n",
      "125/125 [==============================] - 43s 341ms/step - loss: 0.0823 - accuracy: 0.9765 - val_loss: 0.9435 - val_accuracy: 0.8260\n",
      "Epoch 80/100\n",
      "125/125 [==============================] - 46s 365ms/step - loss: 0.0807 - accuracy: 0.9771 - val_loss: 0.9511 - val_accuracy: 0.8264\n",
      "Epoch 81/100\n",
      "125/125 [==============================] - 45s 357ms/step - loss: 0.0787 - accuracy: 0.9777 - val_loss: 0.9597 - val_accuracy: 0.8274\n",
      "Epoch 82/100\n",
      "125/125 [==============================] - 42s 333ms/step - loss: 0.0776 - accuracy: 0.9779 - val_loss: 0.9678 - val_accuracy: 0.8267\n",
      "Epoch 83/100\n",
      "125/125 [==============================] - 42s 336ms/step - loss: 0.0757 - accuracy: 0.9785 - val_loss: 0.9704 - val_accuracy: 0.8271\n",
      "Epoch 84/100\n",
      "125/125 [==============================] - 41s 331ms/step - loss: 0.0745 - accuracy: 0.9789 - val_loss: 0.9737 - val_accuracy: 0.8257\n",
      "Epoch 85/100\n",
      "125/125 [==============================] - 44s 349ms/step - loss: 0.0730 - accuracy: 0.9793 - val_loss: 0.9832 - val_accuracy: 0.8261\n",
      "Epoch 86/100\n",
      "125/125 [==============================] - 46s 368ms/step - loss: 0.0714 - accuracy: 0.9796 - val_loss: 0.9909 - val_accuracy: 0.8266\n",
      "Epoch 87/100\n",
      "125/125 [==============================] - 48s 386ms/step - loss: 0.0698 - accuracy: 0.9802 - val_loss: 0.9935 - val_accuracy: 0.8263\n",
      "Epoch 88/100\n",
      "125/125 [==============================] - 46s 371ms/step - loss: 0.0689 - accuracy: 0.9804 - val_loss: 1.0099 - val_accuracy: 0.8248\n",
      "Epoch 89/100\n",
      "125/125 [==============================] - 46s 367ms/step - loss: 0.0675 - accuracy: 0.9807 - val_loss: 1.0088 - val_accuracy: 0.8261\n",
      "Epoch 90/100\n",
      "125/125 [==============================] - 47s 375ms/step - loss: 0.0662 - accuracy: 0.9811 - val_loss: 1.0107 - val_accuracy: 0.8255\n",
      "Epoch 91/100\n",
      "125/125 [==============================] - 47s 374ms/step - loss: 0.0649 - accuracy: 0.9816 - val_loss: 1.0225 - val_accuracy: 0.8256\n",
      "Epoch 92/100\n",
      "125/125 [==============================] - 45s 358ms/step - loss: 0.0639 - accuracy: 0.9816 - val_loss: 1.0316 - val_accuracy: 0.8253\n",
      "Epoch 93/100\n",
      "125/125 [==============================] - 45s 360ms/step - loss: 0.0624 - accuracy: 0.9822 - val_loss: 1.0374 - val_accuracy: 0.8261\n",
      "Epoch 94/100\n",
      "125/125 [==============================] - 45s 359ms/step - loss: 0.0610 - accuracy: 0.9826 - val_loss: 1.0449 - val_accuracy: 0.8251\n",
      "Epoch 95/100\n",
      "125/125 [==============================] - 43s 344ms/step - loss: 0.0604 - accuracy: 0.9827 - val_loss: 1.0431 - val_accuracy: 0.8265\n",
      "Epoch 96/100\n",
      "125/125 [==============================] - 47s 378ms/step - loss: 0.0591 - accuracy: 0.9830 - val_loss: 1.0533 - val_accuracy: 0.8260\n",
      "Epoch 97/100\n",
      "125/125 [==============================] - 45s 358ms/step - loss: 0.0578 - accuracy: 0.9834 - val_loss: 1.0582 - val_accuracy: 0.8262\n",
      "Epoch 98/100\n",
      "125/125 [==============================] - 43s 347ms/step - loss: 0.0570 - accuracy: 0.9838 - val_loss: 1.0629 - val_accuracy: 0.8262\n",
      "Epoch 99/100\n",
      "125/125 [==============================] - 44s 353ms/step - loss: 0.0555 - accuracy: 0.9842 - val_loss: 1.0707 - val_accuracy: 0.8260\n",
      "Epoch 100/100\n",
      "125/125 [==============================] - 43s 344ms/step - loss: 0.0550 - accuracy: 0.9844 - val_loss: 1.0777 - val_accuracy: 0.8249\n"
     ]
    },
    {
     "name": "stderr",
     "output_type": "stream",
     "text": [
      "WARNING:absl:Found untraced functions such as lstm_cell_layer_call_fn, lstm_cell_layer_call_and_return_conditional_losses, lstm_cell_1_layer_call_fn, lstm_cell_1_layer_call_and_return_conditional_losses, lstm_cell_layer_call_fn while saving (showing 5 of 10). These functions will not be directly callable after loading.\n"
     ]
    },
    {
     "name": "stdout",
     "output_type": "stream",
     "text": [
      "INFO:tensorflow:Assets written to: s2s\\assets\n"
     ]
    },
    {
     "name": "stderr",
     "output_type": "stream",
     "text": [
      "INFO:tensorflow:Assets written to: s2s\\assets\n",
      "WARNING:absl:<keras.layers.recurrent.LSTMCell object at 0x000002AE07A573D0> has the same name 'LSTMCell' as a built-in Keras object. Consider renaming <class 'keras.layers.recurrent.LSTMCell'> to avoid naming conflicts when loading with `tf.keras.models.load_model`. If renaming is not possible, pass the object in the `custom_objects` parameter of the load function.\n",
      "WARNING:absl:<keras.layers.recurrent.LSTMCell object at 0x000002AE07B5F7F0> has the same name 'LSTMCell' as a built-in Keras object. Consider renaming <class 'keras.layers.recurrent.LSTMCell'> to avoid naming conflicts when loading with `tf.keras.models.load_model`. If renaming is not possible, pass the object in the `custom_objects` parameter of the load function.\n"
     ]
    }
   ],
   "source": [
    "model.compile(optimizer='rmsprop',loss=\"categorical_crossentropy\", metrics=[\"accuracy\"]);\n",
    "model.fit([encoder_input_data, decoder_input_data], decoder_target_data, batch_size=batch_size, epochs=epochs, validation_split=0.2);\n",
    "#Save model\n",
    "model.save(\"s2s\");"
   ]
  },
  {
   "cell_type": "code",
   "execution_count": 9,
   "id": "11330624",
   "metadata": {},
   "outputs": [],
   "source": [
    "model = keras.models.load_model(\"s2s\");\n",
    "\n",
    "encoder_inputs = model.input[0]; # input 1\n",
    "encoder_outputs, state_h_enc, state_c_enc = model.layers[2].output;  # lstm_1\n",
    "encoder_states = [state_h_enc, state_c_enc];\n",
    "encoder_model = keras.Model(encoder_inputs, encoder_states);"
   ]
  },
  {
   "cell_type": "code",
   "execution_count": 10,
   "id": "eb6a8623",
   "metadata": {},
   "outputs": [],
   "source": [
    "decoder_inputs = model.input[1]; # input 2\n",
    "decoder_state_input_h = keras.Input(shape=(latent_dim,));\n",
    "decoder_state_input_c = keras.Input(shape=(latent_dim,));\n",
    "decoder_states_inputs = [decoder_state_input_h, decoder_state_input_c];\n",
    "decoder_lstm = model.layers[3];\n",
    "decoder_outputs, state_h_dec, state_c_dec = decoder_lstm(decoder_inputs, initial_state=decoder_states_inputs);\n",
    "decoder_states = [state_h_dec, state_c_dec];\n",
    "decoder_dense = model.layers[4];\n",
    "decoder_outputs = decoder_dense(decoder_outputs);\n",
    "decoder_model = keras.Model([decoder_inputs] + decoder_states_inputs, [decoder_outputs] + decoder_states);"
   ]
  },
  {
   "cell_type": "code",
   "execution_count": 11,
   "id": "226ccac3",
   "metadata": {},
   "outputs": [],
   "source": [
    "reverse_input_char_index = dict((i, char) for char, i in input_token_index.items());\n",
    "reverse_target_char_index = dict((i, char) for char, i in target_token_index.items());"
   ]
  },
  {
   "cell_type": "markdown",
   "id": "c6835cec",
   "metadata": {},
   "source": [
    "# Using and generation"
   ]
  },
  {
   "cell_type": "code",
   "execution_count": 12,
   "id": "05ed9a62",
   "metadata": {},
   "outputs": [],
   "source": [
    "def decode_sequence(input_seq):\n",
    "    states_value = encoder_model.predict(input_seq)\n",
    "    target_seq = np.zeros((1, 1, num_decoder_tokens));\n",
    "    target_seq[0, 0, target_token_index[\"\\t\"]] = 1.0;\n",
    "    stop_condition = False;\n",
    "    decoded_sentence = \"\";\n",
    "    while not stop_condition:\n",
    "        output_tokens, h, c = decoder_model.predict([target_seq] + states_value);\n",
    "\n",
    "        sampled_token_index = np.argmax(output_tokens[0, -1, :]);\n",
    "        sampled_char = reverse_target_char_index[sampled_token_index];\n",
    "        decoded_sentence += sampled_char;\n",
    " \n",
    "        if sampled_char == \"\\n\" or len(decoded_sentence) > max_decoder_seq_length:\n",
    "            stop_condition = True;\n",
    "\n",
    "        target_seq = np.zeros((1, 1, num_decoder_tokens));\n",
    "        target_seq[0, 0, sampled_token_index] = 1.0;\n",
    "\n",
    "        states_value = [h, c];\n",
    "    return decoded_sentence;"
   ]
  },
  {
   "cell_type": "code",
   "execution_count": 13,
   "id": "92a3d4f5",
   "metadata": {},
   "outputs": [
    {
     "name": "stdout",
     "output_type": "stream",
     "text": [
      "----------------\n",
      "Input sentence Go.\n",
      "Output sentence Idź.\n",
      "\n",
      "----------------\n",
      "Input sentence Hi.\n",
      "Output sentence Cześć.\n",
      "\n",
      "----------------\n",
      "Input sentence Run!\n",
      "Output sentence Uciekaj!\n",
      "\n",
      "----------------\n",
      "Input sentence Run.\n",
      "Output sentence Uciekaj.\n",
      "\n",
      "----------------\n",
      "Input sentence Run.\n",
      "Output sentence Uciekaj.\n",
      "\n",
      "----------------\n",
      "Input sentence Who?\n",
      "Output sentence Kto?\n",
      "\n",
      "----------------\n",
      "Input sentence Wow!\n",
      "Output sentence Łał!\n",
      "\n",
      "----------------\n",
      "Input sentence Wow!\n",
      "Output sentence Łał!\n",
      "\n",
      "----------------\n",
      "Input sentence Duck!\n",
      "Output sentence Unik!\n",
      "\n",
      "----------------\n",
      "Input sentence Fire!\n",
      "Output sentence Strzelaj!\n",
      "\n"
     ]
    }
   ],
   "source": [
    "for seq_index in range(10):\n",
    "    input_seq = encoder_input_data[seq_index : seq_index + 1];\n",
    "    decoded_sentence = decode_sequence(input_seq);\n",
    "    print(\"----------------\")\n",
    "    print(\"Input sentence\", input_texts[seq_index]);\n",
    "    print(\"Output sentence\", decoded_sentence);"
   ]
  },
  {
   "cell_type": "markdown",
   "id": "7344e340",
   "metadata": {},
   "source": [
    "# Task 2"
   ]
  },
  {
   "cell_type": "code",
   "execution_count": 14,
   "id": "c6fc1d99",
   "metadata": {},
   "outputs": [],
   "source": [
    "from keras.datasets import fashion_mnist"
   ]
  },
  {
   "cell_type": "code",
   "execution_count": 15,
   "id": "c038bbdc",
   "metadata": {},
   "outputs": [
    {
     "data": {
      "image/png": "[encoded data removed]",
      "text/plain": [
       "<Figure size 1800x720 with 12 Axes>"
      ]
     },
     "metadata": {
      "needs_background": "light"
     },
     "output_type": "display_data"
    }
   ],
   "source": [
    "(x_train, y_train), (x_test, y_test) = fashion_mnist.load_data();\n",
    "n = 12  \n",
    "\n",
    "plt.figure(figsize=(25, 10));\n",
    "for i in range(n):\n",
    "    ax = plt.subplot(1, n, i + 1);\n",
    "    plt.imshow(x_train[i]);\n",
    "    plt.gray();\n",
    "    ax.get_xaxis().set_visible(False);\n",
    "    ax.get_yaxis().set_visible(False);\n",
    " \n",
    "plt.show()"
   ]
  },
  {
   "cell_type": "code",
   "execution_count": 16,
   "id": "e946b9ab",
   "metadata": {},
   "outputs": [
    {
     "name": "stdout",
     "output_type": "stream",
     "text": [
      "60000  - amout of samples\n",
      "Image form:  (28, 28)\n",
      "Amount of classes:  10\n"
     ]
    }
   ],
   "source": [
    "print(x_train.shape[0], ' - amout of samples');\n",
    "print('Image form: ', x_train[0].shape);\n",
    "print('Amount of classes: ', len(set(y_train)));"
   ]
  },
  {
   "cell_type": "code",
   "execution_count": 17,
   "id": "7deaef1a",
   "metadata": {},
   "outputs": [],
   "source": [
    "dim = 28*28; \n",
    "x_train = x_train.reshape(60000, dim);\n",
    "x_train = (x_train.astype(np.float32) - 127.5) / 127.5  # normilization [-1, 1]"
   ]
  },
  {
   "cell_type": "code",
   "execution_count": 18,
   "id": "ef7d683f",
   "metadata": {},
   "outputs": [],
   "source": [
    "adam = keras.optimizers.Adam(learning_rate=0.0002, beta_1=0.5) #optimizer\n",
    "latent_dim = 100;"
   ]
  },
  {
   "cell_type": "markdown",
   "id": "c0efefd2",
   "metadata": {},
   "source": [
    "# Discriminator"
   ]
  },
  {
   "cell_type": "code",
   "execution_count": 19,
   "id": "13754b33",
   "metadata": {},
   "outputs": [],
   "source": [
    "def build_discriminator(): \n",
    "    model =  keras.Sequential()\n",
    "    \n",
    "    model.add(layers.Dense(1000, input_dim=dim, kernel_initializer=initializers.RandomNormal(stddev=0.02)));\n",
    "    model.add(layers.LeakyReLU(alpha=0.2));\n",
    "    model.add(layers.Dropout(0.3));\n",
    "     \n",
    "    model.add(layers.Dense(512));\n",
    "    model.add(layers.LeakyReLU(alpha=0.2));\n",
    "    model.add(layers.Dropout(0.3));\n",
    "\n",
    "    model.add(layers.Dense(256));\n",
    "    model.add(layers.LeakyReLU(alpha=0.2));\n",
    "    model.add(layers.Dropout(0.3));\n",
    "\n",
    "    model.add(layers.Dense(150));\n",
    "    model.add(layers.LeakyReLU(alpha=0.2));\n",
    "    model.add(layers.Dropout(0.3));\n",
    "\n",
    "    model.add(layers.Dense(1, activation='sigmoid'));\n",
    "    model.compile(loss='binary_crossentropy', optimizer=adam);\n",
    "    return model;"
   ]
  },
  {
   "cell_type": "markdown",
   "id": "845001e7",
   "metadata": {},
   "source": [
    "# Generator"
   ]
  },
  {
   "cell_type": "code",
   "execution_count": 20,
   "id": "9402f4a9",
   "metadata": {},
   "outputs": [],
   "source": [
    "def build_generator():\n",
    "    model =  keras.Sequential()\n",
    "    model.add(layers.Dense(150, input_dim=latent_dim, kernel_initializer=initializers.RandomNormal(stddev=0.02)));\n",
    "    model.add(layers.LeakyReLU(alpha=0.2));\n",
    "\n",
    "    model.add(layers.Dense(256));\n",
    "    model.add(layers.LeakyReLU(alpha=0.2));\n",
    "\n",
    "    model.add(layers.Dense(512));\n",
    "    model.add(layers.LeakyReLU(alpha=0.2));\n",
    "    \n",
    "    model.add(layers.Dense(1000));\n",
    "    model.add(layers.LeakyReLU(alpha=0.2));\n",
    "\n",
    "    model.add(layers.Dense(dim, activation='tanh'));\n",
    "\n",
    "    model.compile(loss='binary_crossentropy', optimizer=adam);\n",
    "    return model;"
   ]
  },
  {
   "cell_type": "code",
   "execution_count": 21,
   "id": "9a81c7de",
   "metadata": {},
   "outputs": [],
   "source": [
    "discriminator = build_discriminator();\n",
    "generator = build_generator();\n",
    "\n",
    "discriminator.trainable = False;\n",
    "gan_input = keras.Input(shape=(latent_dim,));\n",
    "x = generator(gan_input);\n",
    "gan_output = discriminator(x);\n",
    "gan = keras.Model(inputs=gan_input, outputs=gan_output);\n",
    "gan.compile(loss='binary_crossentropy', optimizer=adam);"
   ]
  },
  {
   "cell_type": "code",
   "execution_count": 22,
   "id": "ad2d09ba",
   "metadata": {},
   "outputs": [],
   "source": [
    "def plot_generated_images(epoch, generator):\n",
    "    num_of_images = 7;\n",
    "    noise = np.random.normal(0, 1, size=[num_of_images, latent_dim]);\n",
    "    generated_images=generator.predict(noise).reshape(num_of_images, 28, 28);\n",
    "    plt.figure();\n",
    "    for i in range(num_of_images):\n",
    "        plt.subplot(1, 7, i+1);\n",
    "        plt.imshow(generated_images[i], cmap = 'gray');\n",
    "        plt.axis('off');\n",
    "        plt.tight_layout();\n",
    "    plt.show()"
   ]
  },
  {
   "cell_type": "code",
   "execution_count": null,
   "id": "190f3208",
   "metadata": {},
   "outputs": [
    {
     "name": "stdout",
     "output_type": "stream",
     "text": [
      "epoch:  0\n"
     ]
    },
    {
     "data": {
      "image/png": "[encoded data removed]",
      "text/plain": [
       "<Figure size 432x288 with 7 Axes>"
      ]
     },
     "metadata": {
      "needs_background": "light"
     },
     "output_type": "display_data"
    }
   ],
   "source": [
    "discrim_losses = [];\n",
    "\n",
    "def train_model(epochs, batch_size):\n",
    "    num_batches = int(x_train.shape[0]/batch_size);\n",
    "    for ep in range(epochs+1):\n",
    "        for i in range(num_batches):\n",
    "            noise = np.random.normal(0, 1, size=[batch_size, latent_dim]);\n",
    "            image_batch = x_train[np.random.randint(0, x_train.shape[0], size=batch_size)];\n",
    "            \n",
    "            # Generate fake images\n",
    "            generated_images = generator.predict(noise);\n",
    "            X = np.concatenate([image_batch, generated_images]);\n",
    "\n",
    "            # Labels for generated and real data\n",
    "            y_dis = np.zeros(2*batch_size);\n",
    "            y_dis[:batch_size] = 0.9; \n",
    "            # Train discriminator\n",
    "            discriminator.trainable = True;\n",
    "            d_loss = discriminator.train_on_batch(X, y_dis);\n",
    "            discrim_losses.append(d_loss);\n",
    "\n",
    "            # Train generator\n",
    "            noise = np.random.normal(0, 1, size=[batch_size, latent_dim]);\n",
    "            y_gen = np.ones(batch_size);\n",
    "            discriminator.trainable = False;\n",
    "            gan.train_on_batch(noise, y_gen);\n",
    "        if ep % 10 == 0:\n",
    "            print('epoch: ', ep)\n",
    "            plot_generated_images(ep, generator);\n",
    "            \n",
    "            \n",
    "epochs = 100;\n",
    "batch_size = 256;\n",
    "train_model(epochs, batch_size);"
   ]
  }
 ],
 "metadata": {
  "kernelspec": {
   "display_name": "Python 3 (ipykernel)",
   "language": "python",
   "name": "python3"
  },
  "language_info": {
   "codemirror_mode": {
    "name": "ipython",
    "version": 3
   },
   "file_extension": ".py",
   "mimetype": "text/x-python",
   "name": "python",
   "nbconvert_exporter": "python",
   "pygments_lexer": "ipython3",
   "version": "3.9.7"
  }
 },
 "nbformat": 4,
 "nbformat_minor": 5
}
