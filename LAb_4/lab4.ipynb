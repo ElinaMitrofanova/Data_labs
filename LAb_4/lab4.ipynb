{
 "cells": [
  {
   "cell_type": "code",
   "execution_count": 11,
   "id": "5f6954a5",
   "metadata": {},
   "outputs": [],
   "source": [
    "import matplotlib.pyplot as plt\n",
    "import pandas as pd\n",
    "import seaborn as sns\n",
    "import tensorflow as tf\n",
    "from tensorflow import keras\n",
    "from sklearn.model_selection import train_test_split\n",
    "from keras.utils.np_utils import to_categorical\n",
    "from tensorflow.keras.models import Sequential\n",
    "from tensorflow.keras.layers import Dense\n",
    "from keras.layers import Embedding, Dropout, LSTM\n",
    "from keras_preprocessing.sequence import pad_sequences\n",
    "from keras.preprocessing.text import Tokenizer\n",
    "from keras.utils import np_utils"
   ]
  },
  {
   "cell_type": "markdown",
   "id": "b4401fa4",
   "metadata": {},
   "source": [
    "# Task1"
   ]
  },
  {
   "cell_type": "code",
   "execution_count": 3,
   "id": "f1233cdc",
   "metadata": {},
   "outputs": [
    {
     "data": {
      "text/html": [
       "<div>\n",
       "<style scoped>\n",
       "    .dataframe tbody tr th:only-of-type {\n",
       "        vertical-align: middle;\n",
       "    }\n",
       "\n",
       "    .dataframe tbody tr th {\n",
       "        vertical-align: top;\n",
       "    }\n",
       "\n",
       "    .dataframe thead th {\n",
       "        text-align: right;\n",
       "    }\n",
       "</style>\n",
       "<table border=\"1\" class=\"dataframe\">\n",
       "  <thead>\n",
       "    <tr style=\"text-align: right;\">\n",
       "      <th></th>\n",
       "      <th>Make</th>\n",
       "      <th>Model</th>\n",
       "      <th>Vehicle Class</th>\n",
       "      <th>Engine Size(L)</th>\n",
       "      <th>Cylinders</th>\n",
       "      <th>Transmission</th>\n",
       "      <th>Fuel Type</th>\n",
       "      <th>Fuel Consumption City (L/100 km)</th>\n",
       "      <th>Fuel Consumption Hwy (L/100 km)</th>\n",
       "      <th>Fuel Consumption Comb (L/100 km)</th>\n",
       "      <th>Fuel Consumption Comb (mpg)</th>\n",
       "      <th>CO2 Emissions(g/km)</th>\n",
       "    </tr>\n",
       "  </thead>\n",
       "  <tbody>\n",
       "    <tr>\n",
       "      <th>0</th>\n",
       "      <td>ACURA</td>\n",
       "      <td>ILX</td>\n",
       "      <td>COMPACT</td>\n",
       "      <td>2.0</td>\n",
       "      <td>4</td>\n",
       "      <td>AS5</td>\n",
       "      <td>Z</td>\n",
       "      <td>9.9</td>\n",
       "      <td>6.7</td>\n",
       "      <td>8.5</td>\n",
       "      <td>33</td>\n",
       "      <td>196</td>\n",
       "    </tr>\n",
       "    <tr>\n",
       "      <th>1</th>\n",
       "      <td>ACURA</td>\n",
       "      <td>ILX</td>\n",
       "      <td>COMPACT</td>\n",
       "      <td>2.4</td>\n",
       "      <td>4</td>\n",
       "      <td>M6</td>\n",
       "      <td>Z</td>\n",
       "      <td>11.2</td>\n",
       "      <td>7.7</td>\n",
       "      <td>9.6</td>\n",
       "      <td>29</td>\n",
       "      <td>221</td>\n",
       "    </tr>\n",
       "    <tr>\n",
       "      <th>2</th>\n",
       "      <td>ACURA</td>\n",
       "      <td>ILX HYBRID</td>\n",
       "      <td>COMPACT</td>\n",
       "      <td>1.5</td>\n",
       "      <td>4</td>\n",
       "      <td>AV7</td>\n",
       "      <td>Z</td>\n",
       "      <td>6.0</td>\n",
       "      <td>5.8</td>\n",
       "      <td>5.9</td>\n",
       "      <td>48</td>\n",
       "      <td>136</td>\n",
       "    </tr>\n",
       "    <tr>\n",
       "      <th>3</th>\n",
       "      <td>ACURA</td>\n",
       "      <td>MDX 4WD</td>\n",
       "      <td>SUV - SMALL</td>\n",
       "      <td>3.5</td>\n",
       "      <td>6</td>\n",
       "      <td>AS6</td>\n",
       "      <td>Z</td>\n",
       "      <td>12.7</td>\n",
       "      <td>9.1</td>\n",
       "      <td>11.1</td>\n",
       "      <td>25</td>\n",
       "      <td>255</td>\n",
       "    </tr>\n",
       "    <tr>\n",
       "      <th>4</th>\n",
       "      <td>ACURA</td>\n",
       "      <td>RDX AWD</td>\n",
       "      <td>SUV - SMALL</td>\n",
       "      <td>3.5</td>\n",
       "      <td>6</td>\n",
       "      <td>AS6</td>\n",
       "      <td>Z</td>\n",
       "      <td>12.1</td>\n",
       "      <td>8.7</td>\n",
       "      <td>10.6</td>\n",
       "      <td>27</td>\n",
       "      <td>244</td>\n",
       "    </tr>\n",
       "  </tbody>\n",
       "</table>\n",
       "</div>"
      ],
      "text/plain": [
       "    Make       Model Vehicle Class  Engine Size(L)  Cylinders Transmission  \\\n",
       "0  ACURA         ILX       COMPACT             2.0          4          AS5   \n",
       "1  ACURA         ILX       COMPACT             2.4          4           M6   \n",
       "2  ACURA  ILX HYBRID       COMPACT             1.5          4          AV7   \n",
       "3  ACURA     MDX 4WD   SUV - SMALL             3.5          6          AS6   \n",
       "4  ACURA     RDX AWD   SUV - SMALL             3.5          6          AS6   \n",
       "\n",
       "  Fuel Type  Fuel Consumption City (L/100 km)  \\\n",
       "0         Z                               9.9   \n",
       "1         Z                              11.2   \n",
       "2         Z                               6.0   \n",
       "3         Z                              12.7   \n",
       "4         Z                              12.1   \n",
       "\n",
       "   Fuel Consumption Hwy (L/100 km)  Fuel Consumption Comb (L/100 km)  \\\n",
       "0                              6.7                               8.5   \n",
       "1                              7.7                               9.6   \n",
       "2                              5.8                               5.9   \n",
       "3                              9.1                              11.1   \n",
       "4                              8.7                              10.6   \n",
       "\n",
       "   Fuel Consumption Comb (mpg)  CO2 Emissions(g/km)  \n",
       "0                           33                  196  \n",
       "1                           29                  221  \n",
       "2                           48                  136  \n",
       "3                           25                  255  \n",
       "4                           27                  244  "
      ]
     },
     "execution_count": 3,
     "metadata": {},
     "output_type": "execute_result"
    }
   ],
   "source": [
    "df = pd.read_csv(\"CO2 Emissions_Canada.csv\")\n",
    "df.head()"
   ]
  },
  {
   "cell_type": "code",
   "execution_count": 4,
   "id": "5d2d0808",
   "metadata": {},
   "outputs": [],
   "source": [
    "Ft = pd.get_dummies(df['Fuel Type'],drop_first=True,prefix='Fuel')\n",
    "df = df.drop(['Fuel Type'],axis=1)\n",
    "df = pd.concat([df,Ft],axis=1)\n",
    "Tr = pd.get_dummies(df['Transmission'],drop_first=True)\n",
    "df = df.drop(['Transmission'],axis=1)\n",
    "df = pd.concat([df,Tr],axis=1)"
   ]
  },
  {
   "cell_type": "code",
   "execution_count": 6,
   "id": "90f32809",
   "metadata": {},
   "outputs": [
    {
     "data": {
      "text/plain": [
       "CatBoostEncoder(cols=['Make', 'Model', 'Vehicle Class'])"
      ]
     },
     "execution_count": 6,
     "metadata": {},
     "output_type": "execute_result"
    }
   ],
   "source": [
    "import category_encoders as ce\n",
    "X = df.drop(['CO2 Emissions(g/km)','Fuel Consumption Comb (mpg)'],axis=1)\n",
    "y = df['CO2 Emissions(g/km)']\n",
    "\n",
    "\n",
    "x_train, x_test, y_train, y_test = train_test_split(X, y, train_size = 0.5)\n",
    "cat_cols = ['Make','Model','Vehicle Class']\n",
    "target_enc = ce.CatBoostEncoder(cols = cat_cols)\n",
    "target_enc.fit(x_train[cat_cols],y_train)"
   ]
  },
  {
   "cell_type": "code",
   "execution_count": 7,
   "id": "d0bb5037",
   "metadata": {},
   "outputs": [],
   "source": [
    "train_enc = target_enc.transform(x_train[cat_cols])\n",
    "test_enc = target_enc.transform(x_test[cat_cols])\n",
    "\n",
    "x_train = x_train.drop(['Make','Model','Vehicle Class'],axis=1)\n",
    "x_test = x_test.drop(['Make','Model','Vehicle Class'],axis=1)\n",
    "x_train = pd.concat([x_train,train_enc],axis=1)\n",
    "x_test = pd.concat([x_test,test_enc],axis=1)"
   ]
  },
  {
   "cell_type": "code",
   "execution_count": 15,
   "id": "9f70a1b4",
   "metadata": {},
   "outputs": [],
   "source": [
    "y_train = to_categorical(y_train)\n",
    "y_test = to_categorical(y_test)"
   ]
  },
  {
   "cell_type": "code",
   "execution_count": 33,
   "id": "f8e7dede",
   "metadata": {
    "scrolled": false
   },
   "outputs": [
    {
     "name": "stdout",
     "output_type": "stream",
     "text": [
      "Epoch 1/100\n",
      "140/140 [==============================] - 5s 5ms/step - loss: 0.6132 - accuracy: 0.8314\n",
      "Epoch 2/100\n",
      "140/140 [==============================] - 1s 5ms/step - loss: 0.3680 - accuracy: 0.8601\n",
      "Epoch 3/100\n",
      "140/140 [==============================] - 1s 5ms/step - loss: 0.3279 - accuracy: 0.8682\n",
      "Epoch 4/100\n",
      "140/140 [==============================] - 1s 5ms/step - loss: 0.3043 - accuracy: 0.8792\n",
      "Epoch 5/100\n",
      "140/140 [==============================] - 1s 6ms/step - loss: 0.3000 - accuracy: 0.8806\n",
      "Epoch 6/100\n",
      "140/140 [==============================] - 1s 5ms/step - loss: 0.2886 - accuracy: 0.8857\n",
      "Epoch 7/100\n",
      "140/140 [==============================] - 1s 5ms/step - loss: 0.2751 - accuracy: 0.8938\n",
      "Epoch 8/100\n",
      "140/140 [==============================] - 1s 5ms/step - loss: 0.2597 - accuracy: 0.8981: 0s - loss: 0.2563 - accu\n",
      "Epoch 9/100\n",
      "140/140 [==============================] - 1s 5ms/step - loss: 0.2578 - accuracy: 0.9003\n",
      "Epoch 10/100\n",
      "140/140 [==============================] - 1s 5ms/step - loss: 0.2516 - accuracy: 0.9021: 0s - loss: 0.2510 - accuracy: 0.\n",
      "Epoch 11/100\n",
      "140/140 [==============================] - 1s 5ms/step - loss: 0.2315 - accuracy: 0.9102\n",
      "Epoch 12/100\n",
      "140/140 [==============================] - 1s 5ms/step - loss: 0.2206 - accuracy: 0.9167\n",
      "Epoch 13/100\n",
      "140/140 [==============================] - 1s 5ms/step - loss: 0.2057 - accuracy: 0.9259\n",
      "Epoch 14/100\n",
      "140/140 [==============================] - 1s 5ms/step - loss: 0.2027 - accuracy: 0.9223\n",
      "Epoch 15/100\n",
      "140/140 [==============================] - 1s 5ms/step - loss: 0.1871 - accuracy: 0.9331\n",
      "Epoch 16/100\n",
      "140/140 [==============================] - 1s 6ms/step - loss: 0.1925 - accuracy: 0.9264: 0s - loss: 0.1830 - accu\n",
      "Epoch 17/100\n",
      "140/140 [==============================] - 1s 6ms/step - loss: 0.1833 - accuracy: 0.9315\n",
      "Epoch 18/100\n",
      "140/140 [==============================] - 1s 5ms/step - loss: 0.1754 - accuracy: 0.9313\n",
      "Epoch 19/100\n",
      "140/140 [==============================] - 1s 5ms/step - loss: 0.1629 - accuracy: 0.9425: 0s - loss: 0.1591 -  - ETA: 0s - loss: 0.1640 - accuracy: 0.94\n",
      "Epoch 20/100\n",
      "140/140 [==============================] - 1s 5ms/step - loss: 0.1614 - accuracy: 0.9410\n",
      "Epoch 21/100\n",
      "140/140 [==============================] - 1s 5ms/step - loss: 0.1544 - accuracy: 0.9416\n",
      "Epoch 22/100\n",
      "140/140 [==============================] - 1s 5ms/step - loss: 0.1469 - accuracy: 0.9497: 0s - loss: 0.1425 - ac\n",
      "Epoch 23/100\n",
      "140/140 [==============================] - 1s 5ms/step - loss: 0.1659 - accuracy: 0.9367: 0s - loss: 0.1676 - accuracy: 0.93\n",
      "Epoch 24/100\n",
      "140/140 [==============================] - 1s 5ms/step - loss: 0.1460 - accuracy: 0.9443\n",
      "Epoch 25/100\n",
      "140/140 [==============================] - 1s 5ms/step - loss: 0.1367 - accuracy: 0.9508\n",
      "Epoch 26/100\n",
      "140/140 [==============================] - 1s 5ms/step - loss: 0.1437 - accuracy: 0.9479\n",
      "Epoch 27/100\n",
      "140/140 [==============================] - 1s 5ms/step - loss: 0.1439 - accuracy: 0.9468\n",
      "Epoch 28/100\n",
      "140/140 [==============================] - 1s 5ms/step - loss: 0.1447 - accuracy: 0.9479\n",
      "Epoch 29/100\n",
      "140/140 [==============================] - 1s 4ms/step - loss: 0.1176 - accuracy: 0.9580\n",
      "Epoch 30/100\n",
      "140/140 [==============================] - 1s 5ms/step - loss: 0.1196 - accuracy: 0.9594\n",
      "Epoch 31/100\n",
      "140/140 [==============================] - 1s 5ms/step - loss: 0.1122 - accuracy: 0.9612\n",
      "Epoch 32/100\n",
      "140/140 [==============================] - 1s 4ms/step - loss: 0.1309 - accuracy: 0.9551\n",
      "Epoch 33/100\n",
      "140/140 [==============================] - 1s 5ms/step - loss: 0.1133 - accuracy: 0.9612\n",
      "Epoch 34/100\n",
      "140/140 [==============================] - ETA: 0s - loss: 0.1134 - accuracy: 0.95 - 1s 5ms/step - loss: 0.1122 - accuracy: 0.9598\n",
      "Epoch 35/100\n",
      "140/140 [==============================] - 1s 5ms/step - loss: 0.1014 - accuracy: 0.9659\n",
      "Epoch 36/100\n",
      "140/140 [==============================] - 1s 5ms/step - loss: 0.1112 - accuracy: 0.9609\n",
      "Epoch 37/100\n",
      "140/140 [==============================] - 1s 5ms/step - loss: 0.1456 - accuracy: 0.9481\n",
      "Epoch 38/100\n",
      "140/140 [==============================] - 1s 4ms/step - loss: 0.1186 - accuracy: 0.9576: 0s - loss: 0.1\n",
      "Epoch 39/100\n",
      "140/140 [==============================] - 1s 5ms/step - loss: 0.1046 - accuracy: 0.9656: 0s - loss:\n",
      "Epoch 40/100\n",
      "140/140 [==============================] - 1s 5ms/step - loss: 0.0862 - accuracy: 0.9692\n",
      "Epoch 41/100\n",
      "140/140 [==============================] - 1s 5ms/step - loss: 0.0890 - accuracy: 0.9722\n",
      "Epoch 42/100\n",
      "140/140 [==============================] - 1s 5ms/step - loss: 0.0819 - accuracy: 0.9735\n",
      "Epoch 43/100\n",
      "140/140 [==============================] - 1s 5ms/step - loss: 0.0841 - accuracy: 0.9722\n",
      "Epoch 44/100\n",
      "140/140 [==============================] - 1s 5ms/step - loss: 0.0960 - accuracy: 0.9672\n",
      "Epoch 45/100\n",
      "140/140 [==============================] - 1s 4ms/step - loss: 0.1059 - accuracy: 0.9674\n",
      "Epoch 46/100\n",
      "140/140 [==============================] - 1s 4ms/step - loss: 0.1545 - accuracy: 0.9481\n",
      "Epoch 47/100\n",
      "140/140 [==============================] - 1s 5ms/step - loss: 0.1106 - accuracy: 0.9582\n",
      "Epoch 48/100\n",
      "140/140 [==============================] - 1s 5ms/step - loss: 0.0895 - accuracy: 0.9719: 0s - loss: 0.0881 - accuracy\n",
      "Epoch 49/100\n",
      "140/140 [==============================] - 1s 5ms/step - loss: 0.0820 - accuracy: 0.9713: 0s - loss: 0.0832 - accuracy: \n",
      "Epoch 50/100\n",
      "140/140 [==============================] - 1s 5ms/step - loss: 0.0687 - accuracy: 0.9762\n",
      "Epoch 51/100\n",
      "140/140 [==============================] - 1s 5ms/step - loss: 0.0663 - accuracy: 0.9789\n",
      "Epoch 52/100\n",
      "140/140 [==============================] - 0s 4ms/step - loss: 0.0713 - accuracy: 0.9771\n",
      "Epoch 53/100\n",
      "140/140 [==============================] - 1s 4ms/step - loss: 0.0655 - accuracy: 0.9789\n",
      "Epoch 54/100\n",
      "140/140 [==============================] - 0s 3ms/step - loss: 0.0637 - accuracy: 0.9782\n",
      "Epoch 55/100\n",
      "140/140 [==============================] - 1s 4ms/step - loss: 0.0678 - accuracy: 0.9771\n",
      "Epoch 56/100\n",
      "140/140 [==============================] - 1s 4ms/step - loss: 0.0882 - accuracy: 0.9708\n",
      "Epoch 57/100\n",
      "140/140 [==============================] - 1s 4ms/step - loss: 0.1146 - accuracy: 0.9645\n",
      "Epoch 58/100\n",
      "140/140 [==============================] - 1s 4ms/step - loss: 0.0894 - accuracy: 0.9719\n",
      "Epoch 59/100\n",
      "140/140 [==============================] - 1s 4ms/step - loss: 0.0731 - accuracy: 0.9771\n",
      "Epoch 60/100\n",
      "140/140 [==============================] - 1s 4ms/step - loss: 0.0827 - accuracy: 0.9728\n",
      "Epoch 61/100\n",
      "140/140 [==============================] - 1s 4ms/step - loss: 0.1049 - accuracy: 0.9672\n",
      "Epoch 62/100\n",
      "140/140 [==============================] - 1s 5ms/step - loss: 0.0702 - accuracy: 0.9771\n",
      "Epoch 63/100\n",
      "140/140 [==============================] - 1s 4ms/step - loss: 0.0577 - accuracy: 0.9816\n",
      "Epoch 64/100\n",
      "140/140 [==============================] - 1s 5ms/step - loss: 0.0590 - accuracy: 0.9827\n",
      "Epoch 65/100\n",
      "140/140 [==============================] - 1s 5ms/step - loss: 0.0519 - accuracy: 0.9825\n",
      "Epoch 66/100\n",
      "140/140 [==============================] - 1s 5ms/step - loss: 0.0503 - accuracy: 0.9847\n",
      "Epoch 67/100\n",
      "140/140 [==============================] - 1s 5ms/step - loss: 0.0564 - accuracy: 0.9805\n",
      "Epoch 68/100\n",
      "140/140 [==============================] - 1s 5ms/step - loss: 0.0529 - accuracy: 0.9841\n",
      "Epoch 69/100\n",
      "140/140 [==============================] - 1s 5ms/step - loss: 0.0741 - accuracy: 0.9780\n",
      "Epoch 70/100\n",
      "140/140 [==============================] - 1s 5ms/step - loss: 0.1017 - accuracy: 0.9692\n",
      "Epoch 71/100\n",
      "140/140 [==============================] - 1s 5ms/step - loss: 0.1210 - accuracy: 0.9625\n",
      "Epoch 72/100\n",
      "140/140 [==============================] - 1s 5ms/step - loss: 0.1121 - accuracy: 0.9621\n",
      "Epoch 73/100\n",
      "140/140 [==============================] - 1s 5ms/step - loss: 0.0622 - accuracy: 0.9793\n",
      "Epoch 74/100\n",
      "140/140 [==============================] - 1s 4ms/step - loss: 0.0531 - accuracy: 0.9836\n",
      "Epoch 75/100\n",
      "140/140 [==============================] - 1s 5ms/step - loss: 0.0474 - accuracy: 0.9859\n",
      "Epoch 76/100\n",
      "140/140 [==============================] - 1s 5ms/step - loss: 0.0450 - accuracy: 0.9865\n",
      "Epoch 77/100\n",
      "140/140 [==============================] - 1s 5ms/step - loss: 0.0560 - accuracy: 0.9832\n",
      "Epoch 78/100\n"
     ]
    },
    {
     "name": "stdout",
     "output_type": "stream",
     "text": [
      "140/140 [==============================] - 1s 4ms/step - loss: 0.0640 - accuracy: 0.9791\n",
      "Epoch 79/100\n",
      "140/140 [==============================] - 1s 4ms/step - loss: 0.0590 - accuracy: 0.9807\n",
      "Epoch 80/100\n",
      "140/140 [==============================] - 1s 5ms/step - loss: 0.0875 - accuracy: 0.9749\n",
      "Epoch 81/100\n",
      "140/140 [==============================] - 1s 4ms/step - loss: 0.0647 - accuracy: 0.9818\n",
      "Epoch 82/100\n",
      "140/140 [==============================] - 1s 5ms/step - loss: 0.0517 - accuracy: 0.9832\n",
      "Epoch 83/100\n",
      "140/140 [==============================] - 1s 5ms/step - loss: 0.0698 - accuracy: 0.9793\n",
      "Epoch 84/100\n",
      "140/140 [==============================] - 1s 5ms/step - loss: 0.0492 - accuracy: 0.9850\n",
      "Epoch 85/100\n",
      "140/140 [==============================] - 1s 5ms/step - loss: 0.0649 - accuracy: 0.9809\n",
      "Epoch 86/100\n",
      "140/140 [==============================] - 1s 5ms/step - loss: 0.0695 - accuracy: 0.9789\n",
      "Epoch 87/100\n",
      "140/140 [==============================] - 1s 5ms/step - loss: 0.0523 - accuracy: 0.9834\n",
      "Epoch 88/100\n",
      "140/140 [==============================] - 1s 5ms/step - loss: 0.0425 - accuracy: 0.9883\n",
      "Epoch 89/100\n",
      "140/140 [==============================] - 1s 5ms/step - loss: 0.0412 - accuracy: 0.9883\n",
      "Epoch 90/100\n",
      "140/140 [==============================] - 1s 4ms/step - loss: 0.0445 - accuracy: 0.9883\n",
      "Epoch 91/100\n",
      "140/140 [==============================] - 1s 5ms/step - loss: 0.0601 - accuracy: 0.9814: 0s - loss: 0.0608 - accuracy: 0.98\n",
      "Epoch 92/100\n",
      "140/140 [==============================] - 1s 5ms/step - loss: 0.1106 - accuracy: 0.9654\n",
      "Epoch 93/100\n",
      "140/140 [==============================] - 1s 5ms/step - loss: 0.0965 - accuracy: 0.9677\n",
      "Epoch 94/100\n",
      "140/140 [==============================] - 1s 5ms/step - loss: 0.0588 - accuracy: 0.9818\n",
      "Epoch 95/100\n",
      "140/140 [==============================] - 1s 5ms/step - loss: 0.0485 - accuracy: 0.9859\n",
      "Epoch 96/100\n",
      "140/140 [==============================] - 1s 4ms/step - loss: 0.0358 - accuracy: 0.9906\n",
      "Epoch 97/100\n",
      "140/140 [==============================] - 1s 5ms/step - loss: 0.0361 - accuracy: 0.9897\n",
      "Epoch 98/100\n",
      "140/140 [==============================] - 1s 5ms/step - loss: 0.0340 - accuracy: 0.9910\n",
      "Epoch 99/100\n",
      "140/140 [==============================] - 1s 5ms/step - loss: 0.0401 - accuracy: 0.9885\n",
      "Epoch 100/100\n",
      "140/140 [==============================] - 1s 5ms/step - loss: 0.0387 - accuracy: 0.9890\n"
     ]
    },
    {
     "data": {
      "text/plain": [
       "<keras.callbacks.History at 0x1dea075c940>"
      ]
     },
     "execution_count": 33,
     "metadata": {},
     "output_type": "execute_result"
    }
   ],
   "source": [
    "model = Sequential()\n",
    "model.add(Dense(200, activation='relu', input_dim=x_train.shape[1]))\n",
    "model.add(Dense(100, activation='relu'))\n",
    "model.add(Dense(50, activation='relu'))\n",
    "model.add(Dense(y_test.shape[1], activation='softmax'))\n",
    "model.compile(optimizer='adam',\n",
    "              loss='categorical_crossentropy',\n",
    "              metrics=['accuracy'])\n",
    "model.fit(x_train, y_train, epochs=100)"
   ]
  },
  {
   "cell_type": "code",
   "execution_count": 42,
   "id": "77151d7d",
   "metadata": {},
   "outputs": [
    {
     "name": "stdout",
     "output_type": "stream",
     "text": [
      "Accuracy on training data: 0.8928571343421936\n",
      "Error on training data: 0.10714286583578064\n",
      "Accuracy on test data: 0.8500000238418579\n",
      "Error on test data: 0.1499999761581421\n"
     ]
    }
   ],
   "source": [
    "pred_train = model.predict(X_train)\n",
    "scores = model.evaluate(X_train, y_train, verbose=0)\n",
    "print('Accuracy on training data: {}\\n Error on training data: {}'.format(scores[1], 1 - scores[1]))\n",
    "\n",
    "pred_test = model.predict(X_test)\n",
    "scores2 = model.evaluate(X_test, y_test, verbose=0)\n",
    "print('Accuracy on test data: {}\\n Error on test data: {}'.format(scores2[1], 1 - scores2[1]))"
   ]
  },
  {
   "cell_type": "markdown",
   "id": "0990a572",
   "metadata": {},
   "source": [
    "# Task2"
   ]
  },
  {
   "cell_type": "code",
   "execution_count": 65,
   "id": "37ae4eed",
   "metadata": {},
   "outputs": [],
   "source": [
    "from tensorflow import keras\n",
    "\n",
    "(train_features, train_labels), (test_features, test_labels) = keras.datasets.fashion_mnist.load_data()"
   ]
  },
  {
   "cell_type": "code",
   "execution_count": 66,
   "id": "5ef337f9",
   "metadata": {},
   "outputs": [
    {
     "name": "stdout",
     "output_type": "stream",
     "text": [
      "(60000, 28, 28)\n",
      "(10000, 28, 28)\n"
     ]
    }
   ],
   "source": [
    "print(train_features.shape)\n",
    "print(test_features.shape)"
   ]
  },
  {
   "cell_type": "code",
   "execution_count": 67,
   "id": "361b55e8",
   "metadata": {},
   "outputs": [],
   "source": [
    "# Normalize pixel values to be between 0 and 1\n",
    "train_features = train_features.astype('float32') / 255\n",
    "test_features = test_features.astype('float32') / 255"
   ]
  },
  {
   "cell_type": "code",
   "execution_count": 68,
   "id": "e0261a6b",
   "metadata": {},
   "outputs": [],
   "source": [
    "train_labels = keras.utils.to_categorical(train_labels)\n",
    "test_labels = keras.utils.to_categorical(test_labels)"
   ]
  },
  {
   "cell_type": "code",
   "execution_count": 69,
   "id": "efbf0fa0",
   "metadata": {},
   "outputs": [
    {
     "data": {
      "image/png": "[encoded data removed]",
      "text/plain": [
       "<Figure size 1440x288 with 10 Axes>"
      ]
     },
     "metadata": {
      "needs_background": "light"
     },
     "output_type": "display_data"
    }
   ],
   "source": [
    "n = 10\n",
    "plt.figure(figsize=(20, 4))\n",
    "for i in range(n):\n",
    "    ax = plt.subplot(2, n, i + 1)\n",
    "    plt.imshow(train_features[i])\n",
    "    plt.gray()\n",
    "    ax.get_xaxis().set_visible(False)\n",
    "    ax.get_yaxis().set_visible(False)\n",
    "\n",
    "plt.show()"
   ]
  },
  {
   "cell_type": "code",
   "execution_count": 71,
   "id": "3ec3c68e",
   "metadata": {},
   "outputs": [
    {
     "ename": "NameError",
     "evalue": "name 'layers' is not defined",
     "output_type": "error",
     "traceback": [
      "\u001b[1;31m---------------------------------------------------------------------------\u001b[0m",
      "\u001b[1;31mNameError\u001b[0m                                 Traceback (most recent call last)",
      "\u001b[1;32m~\\AppData\\Local\\Temp/ipykernel_1848/2613258478.py\u001b[0m in \u001b[0;36m<module>\u001b[1;34m\u001b[0m\n\u001b[0;32m      3\u001b[0m \u001b[1;33m\u001b[0m\u001b[0m\n\u001b[0;32m      4\u001b[0m \u001b[0mmodel\u001b[0m \u001b[1;33m=\u001b[0m  \u001b[0mkeras\u001b[0m\u001b[1;33m.\u001b[0m\u001b[0mSequential\u001b[0m\u001b[1;33m(\u001b[0m\u001b[1;33m)\u001b[0m\u001b[1;33m\u001b[0m\u001b[1;33m\u001b[0m\u001b[0m\n\u001b[1;32m----> 5\u001b[1;33m \u001b[0mmodel\u001b[0m\u001b[1;33m.\u001b[0m\u001b[0madd\u001b[0m\u001b[1;33m(\u001b[0m\u001b[0mlayers\u001b[0m\u001b[1;33m.\u001b[0m\u001b[0mDense\u001b[0m\u001b[1;33m(\u001b[0m\u001b[1;36m512\u001b[0m\u001b[1;33m,\u001b[0m \u001b[0mactivation\u001b[0m\u001b[1;33m=\u001b[0m\u001b[1;34m'relu'\u001b[0m\u001b[1;33m,\u001b[0m \u001b[0minput_shape\u001b[0m\u001b[1;33m=\u001b[0m\u001b[1;33m(\u001b[0m\u001b[1;36m784\u001b[0m\u001b[1;33m,\u001b[0m\u001b[1;33m)\u001b[0m\u001b[1;33m)\u001b[0m\u001b[1;33m)\u001b[0m\u001b[1;33m\u001b[0m\u001b[1;33m\u001b[0m\u001b[0m\n\u001b[0m\u001b[0;32m      6\u001b[0m \u001b[0mmodel\u001b[0m\u001b[1;33m.\u001b[0m\u001b[0madd\u001b[0m\u001b[1;33m(\u001b[0m\u001b[0mlayers\u001b[0m\u001b[1;33m.\u001b[0m\u001b[0mDense\u001b[0m\u001b[1;33m(\u001b[0m\u001b[1;36m512\u001b[0m\u001b[1;33m,\u001b[0m \u001b[0mactivation\u001b[0m\u001b[1;33m=\u001b[0m\u001b[1;34m'relu'\u001b[0m\u001b[1;33m)\u001b[0m\u001b[1;33m)\u001b[0m\u001b[1;33m\u001b[0m\u001b[1;33m\u001b[0m\u001b[0m\n\u001b[0;32m      7\u001b[0m \u001b[0mmodel\u001b[0m\u001b[1;33m.\u001b[0m\u001b[0madd\u001b[0m\u001b[1;33m(\u001b[0m\u001b[0mlayers\u001b[0m\u001b[1;33m.\u001b[0m\u001b[0mDense\u001b[0m\u001b[1;33m(\u001b[0m\u001b[1;36m10\u001b[0m\u001b[1;33m,\u001b[0m \u001b[0mactivation\u001b[0m\u001b[1;33m=\u001b[0m\u001b[1;34m'softmax'\u001b[0m\u001b[1;33m)\u001b[0m\u001b[1;33m)\u001b[0m\u001b[1;33m\u001b[0m\u001b[1;33m\u001b[0m\u001b[0m\n",
      "\u001b[1;31mNameError\u001b[0m: name 'layers' is not defined"
     ]
    }
   ],
   "source": [
    "from keras.layers import Conv2D, MaxPooling2D, Flatten, Dropout\n",
    "from keras.layers.advanced_activations import LeakyReLU\n",
    "\n",
    "model =  keras.Sequential()\n",
    "model.add(layers.Dense(512, activation='relu', input_shape=(784,)))\n",
    "model.add(layers.Dense(512, activation='relu'))\n",
    "model.add(layers.Dense(10, activation='softmax'))\n",
    "\n",
    "model.summary()\n",
    "model.compile(loss='categorical_crossentropy',   optimizer='adam', metrics=['accuracy'])\n",
    "\n"
   ]
  },
  {
   "cell_type": "code",
   "execution_count": 53,
   "id": "1970c7b9",
   "metadata": {},
   "outputs": [],
   "source": [
    "model.compile(loss='binary_crossentropy',\n",
    "              optimizer=\"adam\",\n",
    "              metrics=['accuracy'])"
   ]
  },
  {
   "cell_type": "code",
   "execution_count": 54,
   "id": "8409b5bc",
   "metadata": {},
   "outputs": [
    {
     "ename": "ValueError",
     "evalue": "Failed to convert a NumPy array to a Tensor (Unsupported object type list).",
     "output_type": "error",
     "traceback": [
      "\u001b[1;31m---------------------------------------------------------------------------\u001b[0m",
      "\u001b[1;31mValueError\u001b[0m                                Traceback (most recent call last)",
      "\u001b[1;32m~\\AppData\\Local\\Temp/ipykernel_1848/412857613.py\u001b[0m in \u001b[0;36m<module>\u001b[1;34m\u001b[0m\n\u001b[1;32m----> 1\u001b[1;33m \u001b[0mmodel\u001b[0m\u001b[1;33m.\u001b[0m\u001b[0mfit\u001b[0m\u001b[1;33m(\u001b[0m\u001b[0mtrain_features\u001b[0m\u001b[1;33m,\u001b[0m \u001b[0mtrain_labels\u001b[0m\u001b[1;33m,\u001b[0m \u001b[0mvalidation_data\u001b[0m\u001b[1;33m=\u001b[0m\u001b[1;33m(\u001b[0m\u001b[0mtest_features\u001b[0m\u001b[1;33m,\u001b[0m \u001b[0mtest_labels\u001b[0m\u001b[1;33m)\u001b[0m\u001b[1;33m,\u001b[0m \u001b[0mbatch_size\u001b[0m\u001b[1;33m=\u001b[0m\u001b[1;36m64\u001b[0m\u001b[1;33m,\u001b[0m \u001b[0mepochs\u001b[0m\u001b[1;33m=\u001b[0m\u001b[1;36m20\u001b[0m\u001b[1;33m)\u001b[0m\u001b[1;33m\u001b[0m\u001b[1;33m\u001b[0m\u001b[0m\n\u001b[0m",
      "\u001b[1;32m~\\anaconda3\\lib\\site-packages\\keras\\utils\\traceback_utils.py\u001b[0m in \u001b[0;36merror_handler\u001b[1;34m(*args, **kwargs)\u001b[0m\n\u001b[0;32m     65\u001b[0m     \u001b[1;32mexcept\u001b[0m \u001b[0mException\u001b[0m \u001b[1;32mas\u001b[0m \u001b[0me\u001b[0m\u001b[1;33m:\u001b[0m  \u001b[1;31m# pylint: disable=broad-except\u001b[0m\u001b[1;33m\u001b[0m\u001b[1;33m\u001b[0m\u001b[0m\n\u001b[0;32m     66\u001b[0m       \u001b[0mfiltered_tb\u001b[0m \u001b[1;33m=\u001b[0m \u001b[0m_process_traceback_frames\u001b[0m\u001b[1;33m(\u001b[0m\u001b[0me\u001b[0m\u001b[1;33m.\u001b[0m\u001b[0m__traceback__\u001b[0m\u001b[1;33m)\u001b[0m\u001b[1;33m\u001b[0m\u001b[1;33m\u001b[0m\u001b[0m\n\u001b[1;32m---> 67\u001b[1;33m       \u001b[1;32mraise\u001b[0m \u001b[0me\u001b[0m\u001b[1;33m.\u001b[0m\u001b[0mwith_traceback\u001b[0m\u001b[1;33m(\u001b[0m\u001b[0mfiltered_tb\u001b[0m\u001b[1;33m)\u001b[0m \u001b[1;32mfrom\u001b[0m \u001b[1;32mNone\u001b[0m\u001b[1;33m\u001b[0m\u001b[1;33m\u001b[0m\u001b[0m\n\u001b[0m\u001b[0;32m     68\u001b[0m     \u001b[1;32mfinally\u001b[0m\u001b[1;33m:\u001b[0m\u001b[1;33m\u001b[0m\u001b[1;33m\u001b[0m\u001b[0m\n\u001b[0;32m     69\u001b[0m       \u001b[1;32mdel\u001b[0m \u001b[0mfiltered_tb\u001b[0m\u001b[1;33m\u001b[0m\u001b[1;33m\u001b[0m\u001b[0m\n",
      "\u001b[1;32m~\\AppData\\Roaming\\Python\\Python39\\site-packages\\tensorflow\\python\\framework\\constant_op.py\u001b[0m in \u001b[0;36mconvert_to_eager_tensor\u001b[1;34m(value, ctx, dtype)\u001b[0m\n\u001b[0;32m    104\u001b[0m       \u001b[0mdtype\u001b[0m \u001b[1;33m=\u001b[0m \u001b[0mdtypes\u001b[0m\u001b[1;33m.\u001b[0m\u001b[0mas_dtype\u001b[0m\u001b[1;33m(\u001b[0m\u001b[0mdtype\u001b[0m\u001b[1;33m)\u001b[0m\u001b[1;33m.\u001b[0m\u001b[0mas_datatype_enum\u001b[0m\u001b[1;33m\u001b[0m\u001b[1;33m\u001b[0m\u001b[0m\n\u001b[0;32m    105\u001b[0m   \u001b[0mctx\u001b[0m\u001b[1;33m.\u001b[0m\u001b[0mensure_initialized\u001b[0m\u001b[1;33m(\u001b[0m\u001b[1;33m)\u001b[0m\u001b[1;33m\u001b[0m\u001b[1;33m\u001b[0m\u001b[0m\n\u001b[1;32m--> 106\u001b[1;33m   \u001b[1;32mreturn\u001b[0m \u001b[0mops\u001b[0m\u001b[1;33m.\u001b[0m\u001b[0mEagerTensor\u001b[0m\u001b[1;33m(\u001b[0m\u001b[0mvalue\u001b[0m\u001b[1;33m,\u001b[0m \u001b[0mctx\u001b[0m\u001b[1;33m.\u001b[0m\u001b[0mdevice_name\u001b[0m\u001b[1;33m,\u001b[0m \u001b[0mdtype\u001b[0m\u001b[1;33m)\u001b[0m\u001b[1;33m\u001b[0m\u001b[1;33m\u001b[0m\u001b[0m\n\u001b[0m\u001b[0;32m    107\u001b[0m \u001b[1;33m\u001b[0m\u001b[0m\n\u001b[0;32m    108\u001b[0m \u001b[1;33m\u001b[0m\u001b[0m\n",
      "\u001b[1;31mValueError\u001b[0m: Failed to convert a NumPy array to a Tensor (Unsupported object type list)."
     ]
    }
   ],
   "source": [
    "model.fit(train_features, train_labels, validation_data=(test_features, test_labels), batch_size=64, epochs=20)"
   ]
  },
  {
   "cell_type": "code",
   "execution_count": null,
   "id": "7b33aad2",
   "metadata": {},
   "outputs": [],
   "source": [
    "model.summary()"
   ]
  },
  {
   "cell_type": "code",
   "execution_count": null,
   "id": "b9ddfcf9",
   "metadata": {},
   "outputs": [],
   "source": [
    "scores = model.evaluate(test_features, test_labels, verbose=0)\n",
    "print(f'Accuracy: {scores[1]}')"
   ]
  },
  {
   "cell_type": "code",
   "execution_count": null,
   "id": "3bf01cfe",
   "metadata": {},
   "outputs": [],
   "source": [
    "print(f'Loss: {scores[0]}')"
   ]
  },
  {
   "cell_type": "markdown",
   "id": "fe95ba03",
   "metadata": {},
   "source": [
    "# Task 3"
   ]
  },
  {
   "cell_type": "code",
   "execution_count": 17,
   "id": "97b6780a",
   "metadata": {},
   "outputs": [
    {
     "data": {
      "text/html": [
       "<div>\n",
       "<style scoped>\n",
       "    .dataframe tbody tr th:only-of-type {\n",
       "        vertical-align: middle;\n",
       "    }\n",
       "\n",
       "    .dataframe tbody tr th {\n",
       "        vertical-align: top;\n",
       "    }\n",
       "\n",
       "    .dataframe thead th {\n",
       "        text-align: right;\n",
       "    }\n",
       "</style>\n",
       "<table border=\"1\" class=\"dataframe\">\n",
       "  <thead>\n",
       "    <tr style=\"text-align: right;\">\n",
       "      <th></th>\n",
       "      <th>label</th>\n",
       "      <th>message</th>\n",
       "    </tr>\n",
       "  </thead>\n",
       "  <tbody>\n",
       "    <tr>\n",
       "      <th>0</th>\n",
       "      <td>ham</td>\n",
       "      <td>I've been searching for the right words to tha...</td>\n",
       "    </tr>\n",
       "    <tr>\n",
       "      <th>1</th>\n",
       "      <td>spam</td>\n",
       "      <td>Free entry in 2 a wkly comp to win FA Cup fina...</td>\n",
       "    </tr>\n",
       "    <tr>\n",
       "      <th>2</th>\n",
       "      <td>ham</td>\n",
       "      <td>Nah I don't think he goes to usf, he lives aro...</td>\n",
       "    </tr>\n",
       "    <tr>\n",
       "      <th>3</th>\n",
       "      <td>ham</td>\n",
       "      <td>Even my brother is not like to speak with me. ...</td>\n",
       "    </tr>\n",
       "    <tr>\n",
       "      <th>4</th>\n",
       "      <td>ham</td>\n",
       "      <td>I HAVE A DATE ON SUNDAY WITH WILL!!</td>\n",
       "    </tr>\n",
       "  </tbody>\n",
       "</table>\n",
       "</div>"
      ],
      "text/plain": [
       "  label                                            message\n",
       "0   ham  I've been searching for the right words to tha...\n",
       "1  spam  Free entry in 2 a wkly comp to win FA Cup fina...\n",
       "2   ham  Nah I don't think he goes to usf, he lives aro...\n",
       "3   ham  Even my brother is not like to speak with me. ...\n",
       "4   ham                I HAVE A DATE ON SUNDAY WITH WILL!!"
      ]
     },
     "execution_count": 17,
     "metadata": {},
     "output_type": "execute_result"
    }
   ],
   "source": [
    "df = pd.read_csv('SMSSpamCollection.tsv', sep='\\t', names=[\"label\", 'message'])\n",
    "df.head()"
   ]
  },
  {
   "cell_type": "code",
   "execution_count": 32,
   "id": "56053596",
   "metadata": {},
   "outputs": [
    {
     "name": "stderr",
     "output_type": "stream",
     "text": [
      "C:\\Users\\ellun\\anaconda3\\lib\\site-packages\\seaborn\\_decorators.py:36: FutureWarning: Pass the following variables as keyword args: x, y. From version 0.12, the only valid positional argument will be `data`, and passing other arguments without an explicit keyword will result in an error or misinterpretation.\n",
      "  warnings.warn(\n"
     ]
    },
    {
     "data": {
      "image/png": "[encoded data removed]",
      "text/plain": [
       "<Figure size 864x288 with 1 Axes>"
      ]
     },
     "metadata": {
      "needs_background": "light"
     },
     "output_type": "display_data"
    }
   ],
   "source": [
    "cnt_pro = df['label'].value_counts()\n",
    "plt.figure(figsize=(12, 4))\n",
    "sns.barplot(cnt_pro.index, cnt_pro.values, alpha=0.6)\n",
    "plt.ylabel('Number of Occurrences', fontsize=15, color = 'y')\n",
    "plt.xlabel('label', fontsize=15, color = 'b')\n",
    "plt.xticks(rotation=90)\n",
    "plt.show();"
   ]
  },
  {
   "cell_type": "code",
   "execution_count": 19,
   "id": "06e6dd69",
   "metadata": {},
   "outputs": [
    {
     "data": {
      "text/plain": [
       "{0: 'ham', 1: 'spam'}"
      ]
     },
     "execution_count": 19,
     "metadata": {},
     "output_type": "execute_result"
    }
   ],
   "source": [
    "labels = sorted(list(set(df.label)))\n",
    "for i in range(len(labels)):\n",
    "    df.label[df.label == labels[i]] = i\n",
    "labels_map = {i: labels[i] for i in range(len(labels))}\n",
    "labels_map"
   ]
  },
  {
   "cell_type": "code",
   "execution_count": 20,
   "id": "bca8ee96",
   "metadata": {},
   "outputs": [],
   "source": [
    "X = df['message']\n",
    "y = df['label']\n",
    "\n",
    "X_train, X_test, y_train, y_test = train_test_split(X, y, test_size=0.20, random_state=100)\n",
    "y_train = np_utils.to_categorical(y_train, len(labels))\n",
    "y_test = np_utils.to_categorical(y_test, len(labels))"
   ]
  },
  {
   "cell_type": "code",
   "execution_count": 21,
   "id": "7229f3e3",
   "metadata": {},
   "outputs": [],
   "source": [
    "tokenizer = Tokenizer(num_words=100)\n",
    "tokenizer.fit_on_texts(X_train)"
   ]
  },
  {
   "cell_type": "code",
   "execution_count": 22,
   "id": "af0ec7c6",
   "metadata": {},
   "outputs": [],
   "source": [
    "x_train = tokenizer.texts_to_sequences(X_train)\n",
    "x_train = pad_sequences(x_train, maxlen=30)\n",
    "\n",
    "x_test = tokenizer.texts_to_sequences(X_test)\n",
    "x_test = pad_sequences(x_test, maxlen=30)"
   ]
  },
  {
   "cell_type": "code",
   "execution_count": 23,
   "id": "51a5308e",
   "metadata": {},
   "outputs": [],
   "source": [
    "model = Sequential()\n",
    "\n",
    "model.add(Embedding(100, 32, input_length=30))\n",
    "model.add(LSTM(64))\n",
    "model.add(Dropout(0.2))\n",
    "model.add(Dense(2, activation='sigmoid'))"
   ]
  },
  {
   "cell_type": "code",
   "execution_count": 24,
   "id": "f07b6fb0",
   "metadata": {},
   "outputs": [],
   "source": [
    "model.compile(\n",
    "    optimizer='adam',\n",
    "    loss='categorical_crossentropy',\n",
    "    metrics=['accuracy'])"
   ]
  },
  {
   "cell_type": "code",
   "execution_count": 25,
   "id": "a010913b",
   "metadata": {},
   "outputs": [
    {
     "name": "stdout",
     "output_type": "stream",
     "text": [
      "Epoch 1/20\n",
      "140/140 [==============================] - 23s 64ms/step - loss: 0.2711 - accuracy: 0.9005 - val_loss: 0.0950 - val_accuracy: 0.9749\n",
      "Epoch 2/20\n",
      "140/140 [==============================] - 4s 29ms/step - loss: 0.1132 - accuracy: 0.9614 - val_loss: 0.1212 - val_accuracy: 0.9677\n",
      "Epoch 3/20\n",
      "140/140 [==============================] - 4s 31ms/step - loss: 0.1043 - accuracy: 0.9652 - val_loss: 0.0897 - val_accuracy: 0.9749\n",
      "Epoch 4/20\n",
      "140/140 [==============================] - 4s 32ms/step - loss: 0.0959 - accuracy: 0.9665 - val_loss: 0.1097 - val_accuracy: 0.9668\n",
      "Epoch 5/20\n",
      "140/140 [==============================] - 4s 31ms/step - loss: 0.0977 - accuracy: 0.9677 - val_loss: 0.0826 - val_accuracy: 0.9749\n",
      "Epoch 6/20\n",
      "140/140 [==============================] - 4s 32ms/step - loss: 0.0936 - accuracy: 0.9692 - val_loss: 0.0832 - val_accuracy: 0.9758\n",
      "Epoch 7/20\n",
      "140/140 [==============================] - 4s 32ms/step - loss: 0.0904 - accuracy: 0.9681 - val_loss: 0.0873 - val_accuracy: 0.9731\n",
      "Epoch 8/20\n",
      "140/140 [==============================] - 4s 30ms/step - loss: 0.0928 - accuracy: 0.9672 - val_loss: 0.0830 - val_accuracy: 0.9758\n",
      "Epoch 9/20\n",
      "140/140 [==============================] - 3s 25ms/step - loss: 0.0890 - accuracy: 0.9695 - val_loss: 0.0845 - val_accuracy: 0.9722\n",
      "Epoch 10/20\n",
      "140/140 [==============================] - 4s 29ms/step - loss: 0.0860 - accuracy: 0.9724 - val_loss: 0.0814 - val_accuracy: 0.9740\n",
      "Epoch 11/20\n",
      "140/140 [==============================] - 5s 32ms/step - loss: 0.0832 - accuracy: 0.9731 - val_loss: 0.0893 - val_accuracy: 0.9686\n",
      "Epoch 12/20\n",
      "140/140 [==============================] - 5s 33ms/step - loss: 0.0848 - accuracy: 0.9717 - val_loss: 0.0862 - val_accuracy: 0.9722\n",
      "Epoch 13/20\n",
      "140/140 [==============================] - 5s 33ms/step - loss: 0.0828 - accuracy: 0.9731 - val_loss: 0.0887 - val_accuracy: 0.9704\n",
      "Epoch 14/20\n",
      "140/140 [==============================] - 4s 31ms/step - loss: 0.0812 - accuracy: 0.9746 - val_loss: 0.0898 - val_accuracy: 0.9722\n",
      "Epoch 15/20\n",
      "140/140 [==============================] - 5s 35ms/step - loss: 0.0756 - accuracy: 0.9760 - val_loss: 0.0916 - val_accuracy: 0.9704\n",
      "Epoch 16/20\n",
      "140/140 [==============================] - 5s 36ms/step - loss: 0.0734 - accuracy: 0.9758 - val_loss: 0.0920 - val_accuracy: 0.9695\n",
      "Epoch 17/20\n",
      "140/140 [==============================] - 5s 33ms/step - loss: 0.0736 - accuracy: 0.9767 - val_loss: 0.0862 - val_accuracy: 0.9731\n",
      "Epoch 18/20\n",
      "140/140 [==============================] - 4s 31ms/step - loss: 0.0707 - accuracy: 0.9769 - val_loss: 0.0871 - val_accuracy: 0.9731\n",
      "Epoch 19/20\n",
      "140/140 [==============================] - 5s 36ms/step - loss: 0.0702 - accuracy: 0.9775 - val_loss: 0.0841 - val_accuracy: 0.9731\n",
      "Epoch 20/20\n",
      "140/140 [==============================] - 5s 38ms/step - loss: 0.0674 - accuracy: 0.9782 - val_loss: 0.0845 - val_accuracy: 0.9731\n"
     ]
    },
    {
     "data": {
      "text/plain": [
       "<keras.callbacks.History at 0x1de9aeb2820>"
      ]
     },
     "execution_count": 25,
     "metadata": {},
     "output_type": "execute_result"
    }
   ],
   "source": [
    "model.fit(x_train, y_train, validation_data=(x_test, y_test), batch_size=32, epochs=20)"
   ]
  },
  {
   "cell_type": "code",
   "execution_count": 26,
   "id": "4b49ba4c",
   "metadata": {},
   "outputs": [
    {
     "name": "stdout",
     "output_type": "stream",
     "text": [
      "35/35 [==============================] - 1s 10ms/step - loss: 0.0845 - accuracy: 0.9731\n",
      "Accuracy: 0.9730700254440308\n"
     ]
    }
   ],
   "source": [
    "scores = model.evaluate(x_test, y_test)\n",
    "print('Accuracy:', scores[1])"
   ]
  },
  {
   "cell_type": "code",
   "execution_count": 27,
   "id": "c2830349",
   "metadata": {},
   "outputs": [
    {
     "name": "stdout",
     "output_type": "stream",
     "text": [
      "Loss:  0.08454565703868866\n"
     ]
    }
   ],
   "source": [
    "print('Loss: ', scores[0])"
   ]
  }
 ],
 "metadata": {
  "kernelspec": {
   "display_name": "Python 3 (ipykernel)",
   "language": "python",
   "name": "python3"
  },
  "language_info": {
   "codemirror_mode": {
    "name": "ipython",
    "version": 3
   },
   "file_extension": ".py",
   "mimetype": "text/x-python",
   "name": "python",
   "nbconvert_exporter": "python",
   "pygments_lexer": "ipython3",
   "version": "3.9.7"
  }
 },
 "nbformat": 4,
 "nbformat_minor": 5
}
